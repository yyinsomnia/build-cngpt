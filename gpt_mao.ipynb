{
  "cells": [
    {
      "cell_type": "markdown",
      "metadata": {
        "id": "view-in-github",
        "colab_type": "text"
      },
      "source": [
        "<a href=\"https://colab.research.google.com/github/yyinsomnia/build-cngpt/blob/main/gpt_mao.ipynb\" target=\"_parent\"><img src=\"https://colab.research.google.com/assets/colab-badge.svg\" alt=\"Open In Colab\"/></a>"
      ]
    },
    {
      "cell_type": "markdown",
      "source": [
        "# 环境和依赖\n",
        "\n"
      ],
      "metadata": {
        "id": "3BIWez3s2klu"
      }
    },
    {
      "cell_type": "code",
      "execution_count": 1,
      "metadata": {
        "id": "n_fPxK2iaPZD",
        "colab": {
          "base_uri": "https://localhost:8080/"
        },
        "outputId": "7edca7d3-033b-43d3-8ceb-e4e4a891eb1e"
      },
      "outputs": [
        {
          "output_type": "stream",
          "name": "stdout",
          "text": [
            "--2024-07-19 16:37:46--  https://raw.githubusercontent.com/karpathy/char-rnn/master/data/tinyshakespeare/input.txt\n",
            "Resolving raw.githubusercontent.com (raw.githubusercontent.com)... 185.199.108.133, 185.199.109.133, 185.199.110.133, ...\n",
            "Connecting to raw.githubusercontent.com (raw.githubusercontent.com)|185.199.108.133|:443... connected.\n",
            "HTTP request sent, awaiting response... 200 OK\n",
            "Length: 1115394 (1.1M) [text/plain]\n",
            "Saving to: ‘input.txt’\n",
            "\n",
            "\rinput.txt             0%[                    ]       0  --.-KB/s               \rinput.txt           100%[===================>]   1.06M  --.-KB/s    in 0.04s   \n",
            "\n",
            "2024-07-19 16:37:46 (26.6 MB/s) - ‘input.txt’ saved [1115394/1115394]\n",
            "\n"
          ]
        }
      ],
      "source": [
        "# !wget https://raw.githubusercontent.com/yyinsomnia/openai-ex/main/input.txt\n",
        "\n",
        "!wget https://raw.githubusercontent.com/karpathy/char-rnn/master/data/tinyshakespeare/input.txt"
      ]
    },
    {
      "cell_type": "markdown",
      "source": [
        "# 传统的语言模型bigram"
      ],
      "metadata": {
        "id": "hbR7rffa2zCf"
      }
    },
    {
      "cell_type": "code",
      "execution_count": 2,
      "metadata": {
        "id": "U9iboUIQbZll"
      },
      "outputs": [],
      "source": [
        "with open('input.txt') as f:\n",
        "    text = f.read()"
      ]
    },
    {
      "cell_type": "code",
      "execution_count": 3,
      "metadata": {
        "colab": {
          "base_uri": "https://localhost:8080/"
        },
        "id": "4csMaMk4bkxQ",
        "outputId": "53f1f492-b774-472f-a561-78d8fa842391"
      },
      "outputs": [
        {
          "output_type": "stream",
          "name": "stdout",
          "text": [
            "length of the mao-poetic in characters is : 1115394\n"
          ]
        }
      ],
      "source": [
        "print('length of the mao-poetic in characters is :', len(text))"
      ]
    },
    {
      "cell_type": "code",
      "execution_count": 4,
      "metadata": {
        "colab": {
          "base_uri": "https://localhost:8080/"
        },
        "id": "MtOUUVQTdEyM",
        "outputId": "2689bdc6-8676-4e94-f466-13929d121b53"
      },
      "outputs": [
        {
          "output_type": "stream",
          "name": "stdout",
          "text": [
            "First Citizen:\n",
            "Before we proceed any further, hear me speak.\n",
            "\n",
            "All:\n",
            "Speak, speak.\n",
            "\n",
            "First Citizen:\n",
            "You are all resolved rather to die than to famish?\n",
            "\n",
            "All:\n",
            "Resolved. resolved.\n",
            "\n",
            "First Citizen:\n",
            "First, you know Caius Marcius is chief enemy to the people.\n",
            "\n",
            "All:\n",
            "We know't, we know't.\n",
            "\n",
            "First Citizen:\n",
            "Let us kill him, and we'll have corn at our own price.\n",
            "Is't a verdict?\n",
            "\n",
            "All:\n",
            "No more talking on't; let it be done: away, away!\n",
            "\n",
            "Second Citizen:\n",
            "One word, good citizens.\n",
            "\n",
            "First Citizen:\n",
            "We are accounted poor citizens, the patricians good.\n",
            "What authority surfeits on would relieve us: if they\n",
            "would yield us but the superfluity, while it were\n",
            "wholesome, we might guess they relieved us humanely;\n",
            "but they think we are too dear: the leanness that\n",
            "afflicts us, the object of our misery, is as an\n",
            "inventory to particularise their abundance; our\n",
            "sufferance is a gain to them Let us revenge this with\n",
            "our pikes, ere we become rakes: for the gods know I\n",
            "speak this in hunger for bread, not in thirst for revenge.\n",
            "\n",
            "\n"
          ]
        }
      ],
      "source": [
        "print(text[:1000])"
      ]
    },
    {
      "cell_type": "code",
      "execution_count": 5,
      "metadata": {
        "id": "rVxLO6kDdLl8"
      },
      "outputs": [],
      "source": [
        "chars = sorted(list(set(text)))\n",
        "vocab_size = len(chars)"
      ]
    },
    {
      "cell_type": "code",
      "execution_count": 6,
      "metadata": {
        "colab": {
          "base_uri": "https://localhost:8080/"
        },
        "id": "ZJY9wNQ1ddDZ",
        "outputId": "856603f4-2695-4822-b9d2-ca9c452de6f5"
      },
      "outputs": [
        {
          "output_type": "stream",
          "name": "stdout",
          "text": [
            "\n",
            " !$&',-.3:;?ABCDEFGHIJKLMNOPQRSTUVWXYZabcdefghijklmnopqrstuvwxyz\n",
            "65\n"
          ]
        }
      ],
      "source": [
        "print(''.join(chars))\n",
        "print(vocab_size)"
      ]
    },
    {
      "cell_type": "code",
      "execution_count": 7,
      "metadata": {
        "id": "mdqOWRzPdl0z"
      },
      "outputs": [],
      "source": [
        "stoi = {char:idx for idx, char in enumerate(chars)}\n",
        "itos = {idx: char for idx, char in enumerate(chars)}"
      ]
    },
    {
      "cell_type": "code",
      "execution_count": 8,
      "metadata": {
        "id": "abYw3i2heML7"
      },
      "outputs": [],
      "source": [
        "# print(stoi['北'])\n",
        "# print(itos[273])"
      ]
    },
    {
      "cell_type": "code",
      "execution_count": 9,
      "metadata": {
        "id": "CyiU6MpTelc3"
      },
      "outputs": [],
      "source": [
        "encode = lambda s: [stoi[c] for c in s]\n",
        "decode = lambda ids: ''.join([itos[i] for i in ids])"
      ]
    },
    {
      "cell_type": "code",
      "execution_count": 10,
      "metadata": {
        "colab": {
          "base_uri": "https://localhost:8080/"
        },
        "id": "zfIrIOn6fBQu",
        "outputId": "2edfa65b-0c4c-4689-a990-2881999bf714"
      },
      "outputs": [
        {
          "output_type": "stream",
          "name": "stdout",
          "text": [
            "[46, 47, 47, 1, 58, 46, 43, 56, 43]\n",
            "hii there\n"
          ]
        }
      ],
      "source": [
        "# 毛爷爷的诗\n",
        "# print(encode('北国风光'))\n",
        "# print(decode([273, 415, 2025, 176]))\n",
        "\n",
        "# shakespeare poetry\n",
        "print(encode(\"hii there\"))\n",
        "print(decode(encode(\"hii there\")))"
      ]
    },
    {
      "cell_type": "code",
      "execution_count": 11,
      "metadata": {
        "colab": {
          "base_uri": "https://localhost:8080/"
        },
        "id": "TmhgBPN7f6xj",
        "outputId": "81bffe54-16b5-4ceb-9490-d0e20961137f"
      },
      "outputs": [
        {
          "output_type": "stream",
          "name": "stdout",
          "text": [
            "torch.Size([1115394]) torch.int64\n",
            "tensor([18, 47, 56, 57, 58,  1, 15, 47, 58, 47, 64, 43, 52, 10,  0, 14, 43, 44,\n",
            "        53, 56, 43,  1, 61, 43,  1, 54, 56, 53, 41, 43, 43, 42,  1, 39, 52, 63,\n",
            "         1, 44, 59, 56, 58, 46, 43, 56,  6,  1, 46, 43, 39, 56,  1, 51, 43,  1,\n",
            "        57, 54, 43, 39, 49,  8,  0,  0, 13, 50, 50, 10,  0, 31, 54, 43, 39, 49,\n",
            "         6,  1, 57, 54, 43, 39, 49,  8,  0,  0, 18, 47, 56, 57, 58,  1, 15, 47,\n",
            "        58, 47, 64, 43, 52, 10,  0, 37, 53, 59,  1, 39, 56, 43,  1, 39, 50, 50,\n",
            "         1, 56, 43, 57, 53, 50, 60, 43, 42,  1, 56, 39, 58, 46, 43, 56,  1, 58,\n",
            "        53,  1, 42, 47, 43,  1, 58, 46, 39, 52,  1, 58, 53,  1, 44, 39, 51, 47,\n",
            "        57, 46, 12,  0,  0, 13, 50, 50, 10,  0, 30, 43, 57, 53, 50, 60, 43, 42,\n",
            "         8,  1, 56, 43, 57, 53, 50, 60, 43, 42,  8,  0,  0, 18, 47, 56, 57, 58,\n",
            "         1, 15, 47, 58, 47, 64, 43, 52, 10,  0, 18, 47, 56, 57, 58,  6,  1, 63,\n",
            "        53, 59,  1, 49, 52, 53, 61,  1, 15, 39, 47, 59, 57,  1, 25, 39, 56, 41,\n",
            "        47, 59, 57,  1, 47, 57,  1, 41, 46, 47, 43, 44,  1, 43, 52, 43, 51, 63,\n",
            "         1, 58, 53,  1, 58, 46, 43,  1, 54, 43, 53, 54, 50, 43,  8,  0,  0, 13,\n",
            "        50, 50, 10,  0, 35, 43,  1, 49, 52, 53, 61,  5, 58,  6,  1, 61, 43,  1,\n",
            "        49, 52, 53, 61,  5, 58,  8,  0,  0, 18, 47, 56, 57, 58,  1, 15, 47, 58,\n",
            "        47, 64, 43, 52, 10,  0, 24, 43, 58,  1, 59, 57,  1, 49, 47, 50, 50,  1,\n",
            "        46, 47, 51,  6,  1, 39, 52, 42,  1, 61, 43,  5, 50, 50,  1, 46, 39, 60,\n",
            "        43,  1, 41, 53, 56, 52,  1, 39, 58,  1, 53, 59, 56,  1, 53, 61, 52,  1,\n",
            "        54, 56, 47, 41, 43,  8,  0, 21, 57,  5, 58,  1, 39,  1, 60, 43, 56, 42,\n",
            "        47, 41, 58, 12,  0,  0, 13, 50, 50, 10,  0, 26, 53,  1, 51, 53, 56, 43,\n",
            "         1, 58, 39, 50, 49, 47, 52, 45,  1, 53, 52,  5, 58, 11,  1, 50, 43, 58,\n",
            "         1, 47, 58,  1, 40, 43,  1, 42, 53, 52, 43, 10,  1, 39, 61, 39, 63,  6,\n",
            "         1, 39, 61, 39, 63,  2,  0,  0, 31, 43, 41, 53, 52, 42,  1, 15, 47, 58,\n",
            "        47, 64, 43, 52, 10,  0, 27, 52, 43,  1, 61, 53, 56, 42,  6,  1, 45, 53,\n",
            "        53, 42,  1, 41, 47, 58, 47, 64, 43, 52, 57,  8,  0,  0, 18, 47, 56, 57,\n",
            "        58,  1, 15, 47, 58, 47, 64, 43, 52, 10,  0, 35, 43,  1, 39, 56, 43,  1,\n",
            "        39, 41, 41, 53, 59, 52, 58, 43, 42,  1, 54, 53, 53, 56,  1, 41, 47, 58,\n",
            "        47, 64, 43, 52, 57,  6,  1, 58, 46, 43,  1, 54, 39, 58, 56, 47, 41, 47,\n",
            "        39, 52, 57,  1, 45, 53, 53, 42,  8,  0, 35, 46, 39, 58,  1, 39, 59, 58,\n",
            "        46, 53, 56, 47, 58, 63,  1, 57, 59, 56, 44, 43, 47, 58, 57,  1, 53, 52,\n",
            "         1, 61, 53, 59, 50, 42,  1, 56, 43, 50, 47, 43, 60, 43,  1, 59, 57, 10,\n",
            "         1, 47, 44,  1, 58, 46, 43, 63,  0, 61, 53, 59, 50, 42,  1, 63, 47, 43,\n",
            "        50, 42,  1, 59, 57,  1, 40, 59, 58,  1, 58, 46, 43,  1, 57, 59, 54, 43,\n",
            "        56, 44, 50, 59, 47, 58, 63,  6,  1, 61, 46, 47, 50, 43,  1, 47, 58,  1,\n",
            "        61, 43, 56, 43,  0, 61, 46, 53, 50, 43, 57, 53, 51, 43,  6,  1, 61, 43,\n",
            "         1, 51, 47, 45, 46, 58,  1, 45, 59, 43, 57, 57,  1, 58, 46, 43, 63,  1,\n",
            "        56, 43, 50, 47, 43, 60, 43, 42,  1, 59, 57,  1, 46, 59, 51, 39, 52, 43,\n",
            "        50, 63, 11,  0, 40, 59, 58,  1, 58, 46, 43, 63,  1, 58, 46, 47, 52, 49,\n",
            "         1, 61, 43,  1, 39, 56, 43,  1, 58, 53, 53,  1, 42, 43, 39, 56, 10,  1,\n",
            "        58, 46, 43,  1, 50, 43, 39, 52, 52, 43, 57, 57,  1, 58, 46, 39, 58,  0,\n",
            "        39, 44, 44, 50, 47, 41, 58, 57,  1, 59, 57,  6,  1, 58, 46, 43,  1, 53,\n",
            "        40, 48, 43, 41, 58,  1, 53, 44,  1, 53, 59, 56,  1, 51, 47, 57, 43, 56,\n",
            "        63,  6,  1, 47, 57,  1, 39, 57,  1, 39, 52,  0, 47, 52, 60, 43, 52, 58,\n",
            "        53, 56, 63,  1, 58, 53,  1, 54, 39, 56, 58, 47, 41, 59, 50, 39, 56, 47,\n",
            "        57, 43,  1, 58, 46, 43, 47, 56,  1, 39, 40, 59, 52, 42, 39, 52, 41, 43,\n",
            "        11,  1, 53, 59, 56,  0, 57, 59, 44, 44, 43, 56, 39, 52, 41, 43,  1, 47,\n",
            "        57,  1, 39,  1, 45, 39, 47, 52,  1, 58, 53,  1, 58, 46, 43, 51,  1, 24,\n",
            "        43, 58,  1, 59, 57,  1, 56, 43, 60, 43, 52, 45, 43,  1, 58, 46, 47, 57,\n",
            "         1, 61, 47, 58, 46,  0, 53, 59, 56,  1, 54, 47, 49, 43, 57,  6,  1, 43,\n",
            "        56, 43,  1, 61, 43,  1, 40, 43, 41, 53, 51, 43,  1, 56, 39, 49, 43, 57,\n",
            "        10,  1, 44, 53, 56,  1, 58, 46, 43,  1, 45, 53, 42, 57,  1, 49, 52, 53,\n",
            "        61,  1, 21,  0, 57, 54, 43, 39, 49,  1, 58, 46, 47, 57,  1, 47, 52,  1,\n",
            "        46, 59, 52, 45, 43, 56,  1, 44, 53, 56,  1, 40, 56, 43, 39, 42,  6,  1,\n",
            "        52, 53, 58,  1, 47, 52,  1, 58, 46, 47, 56, 57, 58,  1, 44, 53, 56,  1,\n",
            "        56, 43, 60, 43, 52, 45, 43,  8,  0,  0])\n"
          ]
        }
      ],
      "source": [
        "import torch\n",
        "data = torch.tensor(encode(text), dtype=torch.long)\n",
        "print(data.shape, data.dtype)\n",
        "print(data[:1000])"
      ]
    },
    {
      "cell_type": "code",
      "execution_count": 12,
      "metadata": {
        "id": "PgUXhVtUgptd"
      },
      "outputs": [],
      "source": [
        "n = int(0.9 * len(data))\n",
        "train_data = data[:n]\n",
        "valid_data = data[n:]"
      ]
    },
    {
      "cell_type": "code",
      "execution_count": 13,
      "metadata": {
        "colab": {
          "base_uri": "https://localhost:8080/"
        },
        "id": "P6581gFPhhJN",
        "outputId": "e30558ea-7952-45b4-ad4c-8833004a8f1a"
      },
      "outputs": [
        {
          "output_type": "execute_result",
          "data": {
            "text/plain": [
              "tensor([18, 47, 56, 57, 58,  1, 15, 47, 58])"
            ]
          },
          "metadata": {},
          "execution_count": 13
        }
      ],
      "source": [
        "block_size = 8\n",
        "train_data[:block_size+1]"
      ]
    },
    {
      "cell_type": "code",
      "execution_count": 14,
      "metadata": {
        "colab": {
          "base_uri": "https://localhost:8080/"
        },
        "id": "dBHL5NiQhznJ",
        "outputId": "8cf40cc3-e009-4bbb-9a45-a665b2f0d22d"
      },
      "outputs": [
        {
          "output_type": "stream",
          "name": "stdout",
          "text": [
            "when context is tensor([18]), target is 47\n",
            "when context is tensor([18, 47]), target is 56\n",
            "when context is tensor([18, 47, 56]), target is 57\n",
            "when context is tensor([18, 47, 56, 57]), target is 58\n",
            "when context is tensor([18, 47, 56, 57, 58]), target is 1\n",
            "when context is tensor([18, 47, 56, 57, 58,  1]), target is 15\n",
            "when context is tensor([18, 47, 56, 57, 58,  1, 15]), target is 47\n",
            "when context is tensor([18, 47, 56, 57, 58,  1, 15, 47]), target is 58\n"
          ]
        }
      ],
      "source": [
        "x = train_data[:block_size]\n",
        "y = train_data[1:block_size+1]\n",
        "\n",
        "for i in range(block_size):\n",
        "    context = x[:i+1]\n",
        "    target = y[i]\n",
        "    print(f\"when context is {context}, target is {target}\")"
      ]
    },
    {
      "cell_type": "code",
      "execution_count": 15,
      "metadata": {
        "colab": {
          "base_uri": "https://localhost:8080/"
        },
        "id": "M3YGZh4vk1bh",
        "outputId": "409a45b1-9ff3-4bba-84f6-906892ee4df4"
      },
      "outputs": [
        {
          "output_type": "stream",
          "name": "stdout",
          "text": [
            "inputs:\n",
            "torch.Size([4, 8])\n",
            "tensor([[24, 43, 58,  5, 57,  1, 46, 43],\n",
            "        [44, 53, 56,  1, 58, 46, 39, 58],\n",
            "        [52, 58,  1, 58, 46, 39, 58,  1],\n",
            "        [25, 17, 27, 10,  0, 21,  1, 54]])\n",
            "targets:\n",
            "torch.Size([4, 8])\n",
            "tensor([[43, 58,  5, 57,  1, 46, 43, 39],\n",
            "        [53, 56,  1, 58, 46, 39, 58,  1],\n",
            "        [58,  1, 58, 46, 39, 58,  1, 46],\n",
            "        [17, 27, 10,  0, 21,  1, 54, 39]])\n"
          ]
        }
      ],
      "source": [
        "torch.manual_seed(1337)\n",
        "batch_size = 4\n",
        "block_size = 8\n",
        "\n",
        "def get_batch(split):\n",
        "    data = train_data if split == 'train' else valid_data\n",
        "    ix = torch.randint(len(data) - block_size, (batch_size,))\n",
        "\n",
        "    x = torch.stack([data[i:i+block_size] for i in ix])\n",
        "    y = torch.stack([data[i+1: i+block_size+1] for i in ix])\n",
        "    return x, y\n",
        "\n",
        "# print(get_batch('train'))\n",
        "xb, yb = get_batch('train')\n",
        "print('inputs:')\n",
        "print(xb.shape)\n",
        "print(xb)\n",
        "print('targets:')\n",
        "print(yb.shape)\n",
        "print(yb)"
      ]
    },
    {
      "cell_type": "code",
      "execution_count": 16,
      "metadata": {
        "colab": {
          "base_uri": "https://localhost:8080/"
        },
        "id": "UaRE6r7JpaTM",
        "outputId": "67c13828-c870-4f45-ddbb-e3bfba37f871"
      },
      "outputs": [
        {
          "output_type": "stream",
          "name": "stdout",
          "text": [
            "when context is tensor([24]), target is 43\n",
            "when context is tensor([24, 43]), target is 58\n",
            "when context is tensor([24, 43, 58]), target is 5\n",
            "when context is tensor([24, 43, 58,  5]), target is 57\n",
            "when context is tensor([24, 43, 58,  5, 57]), target is 1\n",
            "when context is tensor([24, 43, 58,  5, 57,  1]), target is 46\n",
            "when context is tensor([24, 43, 58,  5, 57,  1, 46]), target is 43\n",
            "when context is tensor([24, 43, 58,  5, 57,  1, 46, 43]), target is 39\n",
            "when context is tensor([44]), target is 53\n",
            "when context is tensor([44, 53]), target is 56\n",
            "when context is tensor([44, 53, 56]), target is 1\n",
            "when context is tensor([44, 53, 56,  1]), target is 58\n",
            "when context is tensor([44, 53, 56,  1, 58]), target is 46\n",
            "when context is tensor([44, 53, 56,  1, 58, 46]), target is 39\n",
            "when context is tensor([44, 53, 56,  1, 58, 46, 39]), target is 58\n",
            "when context is tensor([44, 53, 56,  1, 58, 46, 39, 58]), target is 1\n",
            "when context is tensor([52]), target is 58\n",
            "when context is tensor([52, 58]), target is 1\n",
            "when context is tensor([52, 58,  1]), target is 58\n",
            "when context is tensor([52, 58,  1, 58]), target is 46\n",
            "when context is tensor([52, 58,  1, 58, 46]), target is 39\n",
            "when context is tensor([52, 58,  1, 58, 46, 39]), target is 58\n",
            "when context is tensor([52, 58,  1, 58, 46, 39, 58]), target is 1\n",
            "when context is tensor([52, 58,  1, 58, 46, 39, 58,  1]), target is 46\n",
            "when context is tensor([25]), target is 17\n",
            "when context is tensor([25, 17]), target is 27\n",
            "when context is tensor([25, 17, 27]), target is 10\n",
            "when context is tensor([25, 17, 27, 10]), target is 0\n",
            "when context is tensor([25, 17, 27, 10,  0]), target is 21\n",
            "when context is tensor([25, 17, 27, 10,  0, 21]), target is 1\n",
            "when context is tensor([25, 17, 27, 10,  0, 21,  1]), target is 54\n",
            "when context is tensor([25, 17, 27, 10,  0, 21,  1, 54]), target is 39\n"
          ]
        }
      ],
      "source": [
        "for b in range(batch_size):\n",
        "    for t in range(block_size):\n",
        "        context = xb[b, :t+1]\n",
        "        target = yb[b, t]\n",
        "        print(f'when context is {context}, target is {target}')"
      ]
    },
    {
      "cell_type": "code",
      "execution_count": 17,
      "metadata": {
        "id": "cQHyc87uqAFQ"
      },
      "outputs": [],
      "source": [
        "import torch\n",
        "import torch.nn as nn\n",
        "from torch.nn import functional as F\n",
        "torch.manual_seed(1337)\n",
        "\n",
        "class BigramLanguageModel(nn.Module):\n",
        "\n",
        "    def __init__(self, vocab_size):\n",
        "        super().__init__()\n",
        "        # 这里是有讲究的，这个embedding就是通过当前词预测下一个词，这是bigram吗？怎么感觉是unigram\n",
        "        # 没问题，就是bigram。uniqgram就是每个词的出现只与它自己有关，bigram是每个词的出现与它的前一个有关\n",
        "        self.token_embedding_table = nn.Embedding(vocab_size, vocab_size)\n",
        "\n",
        "    def forward(self, idx, targets=None):\n",
        "        logits = self.token_embedding_table(idx)\n",
        "\n",
        "        if targets is None:\n",
        "            loss = None\n",
        "        else:\n",
        "            B, T, C = logits.shape\n",
        "            logits = logits.view(B*T, C)\n",
        "            targets = targets.view(B*T)\n",
        "            loss = F.cross_entropy(logits, targets)\n",
        "\n",
        "        return logits, loss\n",
        "\n",
        "    def generate(self, idx, max_new_tokens):\n",
        "        for _ in range(max_new_tokens):\n",
        "            logits, loss = self(idx)\n",
        "            logits = logits[:, -1, :]\n",
        "            probs = F.softmax(logits, dim=-1)\n",
        "            idx_next = torch.multinomial(probs, num_samples=1)\n",
        "            idx = torch.cat((idx, idx_next), dim=1)\n",
        "\n",
        "        return idx"
      ]
    },
    {
      "cell_type": "code",
      "execution_count": 18,
      "metadata": {
        "colab": {
          "base_uri": "https://localhost:8080/"
        },
        "id": "E4XwzL8uuAKp",
        "outputId": "7dd67f64-9d2d-4720-f716-53ea15b5cf58"
      },
      "outputs": [
        {
          "output_type": "stream",
          "name": "stdout",
          "text": [
            "torch.Size([32, 65])\n",
            "tensor(4.8786, grad_fn=<NllLossBackward0>)\n",
            "\n",
            "Sr?qP-QWktXoL&jLDJgOLVz'RIoDqHdhsV&vLLxatjscMpwLERSPyao.qfzs$Ys$zF-w,;eEkzxjgCKFChs!iWW.ObzDnxA Ms$3\n"
          ]
        }
      ],
      "source": [
        "m = BigramLanguageModel(vocab_size)\n",
        "logits, loss = m(xb, yb)\n",
        "print(logits.shape)\n",
        "print(loss)\n",
        "\n",
        "print(decode(m.generate(idx = torch.zeros((1, 1), dtype=torch.long), max_new_tokens=100)[0].tolist()))"
      ]
    },
    {
      "cell_type": "code",
      "execution_count": 19,
      "metadata": {
        "id": "E4Quc7QXnNMl"
      },
      "outputs": [],
      "source": [
        "# create a PyTorch optimizer\n",
        "optimizer = torch.optim.AdamW(m.parameters(), lr=1e-3)"
      ]
    },
    {
      "cell_type": "code",
      "execution_count": 20,
      "metadata": {
        "colab": {
          "base_uri": "https://localhost:8080/"
        },
        "id": "2xSxhHoROy5f",
        "outputId": "6cd2d948-28b1-4ffe-c60e-c0c9c62cd13d"
      },
      "outputs": [
        {
          "output_type": "stream",
          "name": "stdout",
          "text": [
            "train loss: 4.704006195068359, valid loss: 4.685050964355469\n",
            "train loss: 4.681365013122559, valid loss: 4.604834079742432\n",
            "train loss: 4.495052814483643, valid loss: 4.6050124168396\n",
            "train loss: 4.401493549346924, valid loss: 4.348064422607422\n",
            "train loss: 4.194651126861572, valid loss: 4.344674110412598\n",
            "train loss: 4.22622013092041, valid loss: 4.2478928565979\n",
            "train loss: 3.9928793907165527, valid loss: 4.014947891235352\n",
            "train loss: 4.146249294281006, valid loss: 3.9515202045440674\n",
            "train loss: 3.906283378601074, valid loss: 3.9018666744232178\n",
            "train loss: 3.8001708984375, valid loss: 3.8397514820098877\n",
            "train loss: 3.6482129096984863, valid loss: 3.764535665512085\n",
            "train loss: 3.7147018909454346, valid loss: 3.621622085571289\n",
            "train loss: 3.605959892272949, valid loss: 3.6587533950805664\n",
            "train loss: 3.444122314453125, valid loss: 3.490373134613037\n",
            "train loss: 3.327164888381958, valid loss: 3.3006374835968018\n",
            "train loss: 3.322540044784546, valid loss: 3.474493980407715\n",
            "train loss: 3.309330940246582, valid loss: 3.3503739833831787\n",
            "train loss: 3.238018751144409, valid loss: 3.2561185359954834\n",
            "train loss: 3.1756112575531006, valid loss: 3.194598436355591\n",
            "train loss: 3.120649814605713, valid loss: 3.2891571521759033\n",
            "train loss: 3.1812891960144043, valid loss: 3.1428136825561523\n",
            "train loss: 3.0549514293670654, valid loss: 3.0460102558135986\n",
            "train loss: 3.0775651931762695, valid loss: 3.021282434463501\n",
            "train loss: 2.998690605163574, valid loss: 3.032158613204956\n",
            "train loss: 2.9369680881500244, valid loss: 3.015204668045044\n",
            "train loss: 2.984867572784424, valid loss: 3.0074703693389893\n",
            "train loss: 2.8272831439971924, valid loss: 2.9094607830047607\n",
            "train loss: 2.9533026218414307, valid loss: 2.8335790634155273\n",
            "train loss: 2.6790943145751953, valid loss: 2.797306776046753\n",
            "train loss: 2.785305976867676, valid loss: 2.8556289672851562\n",
            "train loss: 2.7115986347198486, valid loss: 2.8925557136535645\n",
            "train loss: 2.8846516609191895, valid loss: 2.709047317504883\n",
            "train loss: 2.6768455505371094, valid loss: 2.7286736965179443\n",
            "train loss: 2.7215678691864014, valid loss: 2.6993772983551025\n",
            "train loss: 2.8018364906311035, valid loss: 2.7116453647613525\n",
            "train loss: 2.813525438308716, valid loss: 2.748926877975464\n",
            "train loss: 2.769643783569336, valid loss: 2.6281566619873047\n",
            "train loss: 2.73433518409729, valid loss: 2.75730299949646\n",
            "train loss: 2.688753843307495, valid loss: 2.6050422191619873\n",
            "train loss: 2.6912004947662354, valid loss: 2.6484854221343994\n",
            "train loss: 2.6768200397491455, valid loss: 2.7448930740356445\n",
            "train loss: 2.670252561569214, valid loss: 2.5928497314453125\n",
            "train loss: 2.6175594329833984, valid loss: 2.6100525856018066\n",
            "train loss: 2.617021322250366, valid loss: 2.614657402038574\n",
            "train loss: 2.7287847995758057, valid loss: 2.5499682426452637\n",
            "train loss: 2.4747965335845947, valid loss: 2.540065288543701\n",
            "train loss: 2.486161708831787, valid loss: 2.5897600650787354\n",
            "train loss: 2.5880627632141113, valid loss: 2.6206533908843994\n",
            "train loss: 2.6063034534454346, valid loss: 2.491954803466797\n",
            "train loss: 2.581220865249634, valid loss: 2.5389418601989746\n",
            "train loss: 2.5842676162719727, valid loss: 2.540142774581909\n",
            "2.5842676162719727\n"
          ]
        }
      ],
      "source": [
        "batch_size = 32\n",
        "max_iter = 5000\n",
        "\n",
        "for step in range(max_iter): # increase number of steps for good results...\n",
        "\n",
        "    # sample a batch of data\n",
        "    xb, yb = get_batch('train')\n",
        "    # evaluate the loss\n",
        "    logits, loss = m(xb, yb)\n",
        "\n",
        "    if step % 100 == 0 or step == max_iter - 1:\n",
        "        x_val, y_val = get_batch('valid')\n",
        "        logits_val, loss_val = m(x_val, y_val)\n",
        "\n",
        "        print(f'train loss: {loss}, valid loss: {loss_val}')\n",
        "\n",
        "\n",
        "    optimizer.zero_grad(set_to_none=True)\n",
        "    loss.backward()\n",
        "    optimizer.step()\n",
        "\n",
        "# 基本到2.2 就下不去了\n",
        "print(loss.item())\n"
      ]
    },
    {
      "cell_type": "code",
      "execution_count": 21,
      "metadata": {
        "colab": {
          "base_uri": "https://localhost:8080/"
        },
        "id": "LpMJqXjCjU6i",
        "outputId": "c8508460-b601-474b-df0b-b24aecfb6e39"
      },
      "outputs": [
        {
          "output_type": "execute_result",
          "data": {
            "text/plain": [
              "tensor([[0]])"
            ]
          },
          "metadata": {},
          "execution_count": 21
        }
      ],
      "source": [
        "torch.zeros(1, 1, dtype=torch.long)"
      ]
    },
    {
      "cell_type": "code",
      "execution_count": 22,
      "metadata": {
        "colab": {
          "base_uri": "https://localhost:8080/"
        },
        "id": "CQYMv0aojmNs",
        "outputId": "eb720369-140d-44a3-c917-6232779ce9a7"
      },
      "outputs": [
        {
          "output_type": "execute_result",
          "data": {
            "text/plain": [
              "tensor([[0]])"
            ]
          },
          "metadata": {},
          "execution_count": 22
        }
      ],
      "source": [
        "# gen_idx = torch.tensor([encode('北国风光')], dtype=torch.long)\n",
        "gen_idx = torch.zeros((1, 1), dtype=torch.long)\n",
        "gen_idx"
      ]
    },
    {
      "cell_type": "code",
      "execution_count": 23,
      "metadata": {
        "colab": {
          "base_uri": "https://localhost:8080/"
        },
        "id": "UC3d8-PoO5mj",
        "outputId": "30f50118-6813-47d5-b027-c46d971fe7f7"
      },
      "outputs": [
        {
          "output_type": "stream",
          "name": "stdout",
          "text": [
            "\n",
            "were er:\n",
            "BLenEr w\n",
            "Se, WWhes jFYNapay tethore!uE:\n",
            "GLBedofubl'VOKuit!\n",
            "Sit LINCL:\n",
            "IZKII R.\n",
            "tr han:\n",
            "Theaseise athicof\n",
            "LOLBus CERYde tDesula tttithe lour wes kisasiseaUTw?Oinounera tlantUFKGave\n",
            "IBFr nein t;AUBo p$s\n",
            "I& 'switoud su, r t ide\n",
            "xxatqe f boo te tt, ho morved'WAce t f Vn?k:\n",
            "KIOWoid,\n",
            "VORKoy CHAneyed ng princr whe, dme yFoouthyVOy\n",
            "ARGongas:\n",
            "TIDUEn t$YCVOUCKIOPaus s tathainsullls serd!\n",
            "A:\n",
            "ILINord chatawoureY VBul CHakerave t ty SKINGAig?O ad omapy d?LOThof thot.I:\n",
            "Ansinde ow.\n",
            "S:\n",
            "\n",
            "Gloldin a I'Q?\n"
          ]
        }
      ],
      "source": [
        "print(decode(m.generate(idx = gen_idx, max_new_tokens=500)[0].tolist()))"
      ]
    },
    {
      "cell_type": "markdown",
      "source": [
        "# attention的数学技巧"
      ],
      "metadata": {
        "id": "T7Lsk5R91v2y"
      }
    },
    {
      "cell_type": "code",
      "source": [
        "torch.manual_seed(42)\n",
        "# 下三角矩阵就能做到和左边的词元attention\n",
        "a = torch.tril(torch.ones(3, 3))\n",
        "# 但是这里我们要模拟的不是mask，而是一个K * Q得到的attention权重矩阵，还得归一化\n",
        "a = a / torch.sum(a, 1, keepdim=True)\n",
        "\n",
        "b = torch.randint(0,10,(3,2)).float()\n",
        "\n",
        "c = a @ b\n",
        "print('a=')\n",
        "print(a)\n",
        "print('---')\n",
        "print('b=')\n",
        "print(b)\n",
        "print('c=')\n",
        "print('---')\n",
        "print(c)\n",
        "\n",
        "# c look as the column combination of a\n",
        "# 2.  0. 0  2\n",
        "# 1.  3. 0. 4\n",
        "# 2/3 2  2. 4.6666\n",
        "\n",
        "# 但是这里应该看成 row combination of b\n",
        "# 1.0 * [2., 7.] + 0.0 * [6., 4.] + 0.0 * [6., 5.] 这就是第1个token的BOW表示\n",
        "# 0.5 * [2., 7.] + 0.5 * [6., 4.] + 0.0 * [6., 5.] 这就是第2个token的BOW表示\n",
        "# 0.3 * [2., 7.] + 0.3 * [6., 4.] + 0.3 * [6., 5.] 这就是第3个token的BOW表示\n"
      ],
      "metadata": {
        "colab": {
          "base_uri": "https://localhost:8080/"
        },
        "id": "pCIKXHxu118W",
        "outputId": "180c7011-7d3e-42cc-8f07-27cc207a38c6"
      },
      "execution_count": 24,
      "outputs": [
        {
          "output_type": "stream",
          "name": "stdout",
          "text": [
            "a=\n",
            "tensor([[1.0000, 0.0000, 0.0000],\n",
            "        [0.5000, 0.5000, 0.0000],\n",
            "        [0.3333, 0.3333, 0.3333]])\n",
            "---\n",
            "b=\n",
            "tensor([[2., 7.],\n",
            "        [6., 4.],\n",
            "        [6., 5.]])\n",
            "c=\n",
            "---\n",
            "tensor([[2.0000, 7.0000],\n",
            "        [4.0000, 5.5000],\n",
            "        [4.6667, 5.3333]])\n"
          ]
        }
      ]
    },
    {
      "cell_type": "code",
      "source": [
        "torch.manual_seed(1337)\n",
        "B, T, C = 4, 8, 2\n",
        "x = torch.randn(B, T, C)\n",
        "print(x)"
      ],
      "metadata": {
        "colab": {
          "base_uri": "https://localhost:8080/"
        },
        "id": "jO7q8nUBcYAQ",
        "outputId": "7e494119-7161-4c90-d4d9-96a7434e2a99"
      },
      "execution_count": 25,
      "outputs": [
        {
          "output_type": "stream",
          "name": "stdout",
          "text": [
            "tensor([[[ 0.1808, -0.0700],\n",
            "         [-0.3596, -0.9152],\n",
            "         [ 0.6258,  0.0255],\n",
            "         [ 0.9545,  0.0643],\n",
            "         [ 0.3612,  1.1679],\n",
            "         [-1.3499, -0.5102],\n",
            "         [ 0.2360, -0.2398],\n",
            "         [-0.9211,  1.5433]],\n",
            "\n",
            "        [[ 1.3488, -0.1396],\n",
            "         [ 0.2858,  0.9651],\n",
            "         [-2.0371,  0.4931],\n",
            "         [ 1.4870,  0.5910],\n",
            "         [ 0.1260, -1.5627],\n",
            "         [-1.1601, -0.3348],\n",
            "         [ 0.4478, -0.8016],\n",
            "         [ 1.5236,  2.5086]],\n",
            "\n",
            "        [[-0.6631, -0.2513],\n",
            "         [ 1.0101,  0.1215],\n",
            "         [ 0.1584,  1.1340],\n",
            "         [-1.1539, -0.2984],\n",
            "         [-0.5075, -0.9239],\n",
            "         [ 0.5467, -1.4948],\n",
            "         [-1.2057,  0.5718],\n",
            "         [-0.5974, -0.6937]],\n",
            "\n",
            "        [[ 1.6455, -0.8030],\n",
            "         [ 1.3514, -0.2759],\n",
            "         [-1.5108,  2.1048],\n",
            "         [ 2.7630, -1.7465],\n",
            "         [ 1.4516, -1.5103],\n",
            "         [ 0.8212, -0.2115],\n",
            "         [ 0.7789,  1.5333],\n",
            "         [ 1.6097, -0.4032]]])\n"
          ]
        }
      ]
    },
    {
      "cell_type": "code",
      "source": [
        "# 先用朴素BOW来表达？\n",
        "# x[b, t] = mean_{i <= t} x[b, i]\n",
        "\n",
        "xbow = torch.zeros(B, T, C)\n",
        "for b in range(B):\n",
        "    for t in range(T):\n",
        "        # 私以为比Andrej老师的变量名要好，因为这里也包含了step t这个token\n",
        "        x_t_tprev = x[b, :t+1] # shape (t, C)\n",
        "        xbow[b, t] = torch.mean(x_t_tprev, 0)\n",
        "\n",
        "print(xbow)"
      ],
      "metadata": {
        "colab": {
          "base_uri": "https://localhost:8080/"
        },
        "id": "GuKWNTK8gIf_",
        "outputId": "9b6b48a3-07e4-4565-9250-662b342a2cd4"
      },
      "execution_count": 26,
      "outputs": [
        {
          "output_type": "stream",
          "name": "stdout",
          "text": [
            "tensor([[[ 0.1808, -0.0700],\n",
            "         [-0.0894, -0.4926],\n",
            "         [ 0.1490, -0.3199],\n",
            "         [ 0.3504, -0.2238],\n",
            "         [ 0.3525,  0.0545],\n",
            "         [ 0.0688, -0.0396],\n",
            "         [ 0.0927, -0.0682],\n",
            "         [-0.0341,  0.1332]],\n",
            "\n",
            "        [[ 1.3488, -0.1396],\n",
            "         [ 0.8173,  0.4127],\n",
            "         [-0.1342,  0.4395],\n",
            "         [ 0.2711,  0.4774],\n",
            "         [ 0.2421,  0.0694],\n",
            "         [ 0.0084,  0.0020],\n",
            "         [ 0.0712, -0.1128],\n",
            "         [ 0.2527,  0.2149]],\n",
            "\n",
            "        [[-0.6631, -0.2513],\n",
            "         [ 0.1735, -0.0649],\n",
            "         [ 0.1685,  0.3348],\n",
            "         [-0.1621,  0.1765],\n",
            "         [-0.2312, -0.0436],\n",
            "         [-0.1015, -0.2855],\n",
            "         [-0.2593, -0.1630],\n",
            "         [-0.3015, -0.2293]],\n",
            "\n",
            "        [[ 1.6455, -0.8030],\n",
            "         [ 1.4985, -0.5395],\n",
            "         [ 0.4954,  0.3420],\n",
            "         [ 1.0623, -0.1802],\n",
            "         [ 1.1401, -0.4462],\n",
            "         [ 1.0870, -0.4071],\n",
            "         [ 1.0430, -0.1299],\n",
            "         [ 1.1138, -0.1641]]])\n"
          ]
        }
      ]
    },
    {
      "cell_type": "code",
      "source": [
        "# 再用上面那个tril的矩阵乘法来表示\n",
        "# 为什么用tril？因为不用写for循环，并行度更高\n",
        "\n",
        "wei = torch.tril(torch.ones(T, T))\n",
        "print('wei_tril:')\n",
        "print(wei)\n",
        "\n",
        "\n",
        "# 这里keepdim=True shape是(8, 1)所以除法就是每行除以对应的那一行的1个sum出来的数\n",
        "# keepdim=False, shape是(8, ), 那就是每一行从左到右每个元素都找到对应的去除\n",
        "wei_sum = wei.sum(1, keepdim=True)\n",
        "\n",
        "print('wei_sum:')\n",
        "print(wei_sum)\n",
        "wei = wei / wei_sum\n",
        "\n",
        "\n",
        "print('wei:')\n",
        "print(wei)\n",
        "\n",
        "xbow2 = wei @ x\n",
        "\n",
        "# 发现太小的值，这里[1,5,1] 是 0.0020，会导致allclose判断为False，\n",
        "# 这个问题很有意思，我记得21年跑这个代码没有这个问题，现在出现了。我也运行了一下Andrej的原始notebook也是Fasle\n",
        "# 说明大概率是python和torch的版本升级导致的，可能是seed rand的数字不一样了\n",
        "print('xbow2:')\n",
        "print(xbow2[1][5][1])\n",
        "print(xbow2[1][5][1] - xbow[1][5][1])\n",
        "torch.allclose(xbow[1][5][1], xbow2[1][5][1])"
      ],
      "metadata": {
        "colab": {
          "base_uri": "https://localhost:8080/"
        },
        "id": "6K30_1hzjUhb",
        "outputId": "4f4a91a9-6eec-4c9a-deda-d3fe9a8f12b8"
      },
      "execution_count": 27,
      "outputs": [
        {
          "output_type": "stream",
          "name": "stdout",
          "text": [
            "wei_tril:\n",
            "tensor([[1., 0., 0., 0., 0., 0., 0., 0.],\n",
            "        [1., 1., 0., 0., 0., 0., 0., 0.],\n",
            "        [1., 1., 1., 0., 0., 0., 0., 0.],\n",
            "        [1., 1., 1., 1., 0., 0., 0., 0.],\n",
            "        [1., 1., 1., 1., 1., 0., 0., 0.],\n",
            "        [1., 1., 1., 1., 1., 1., 0., 0.],\n",
            "        [1., 1., 1., 1., 1., 1., 1., 0.],\n",
            "        [1., 1., 1., 1., 1., 1., 1., 1.]])\n",
            "wei_sum:\n",
            "tensor([[1.],\n",
            "        [2.],\n",
            "        [3.],\n",
            "        [4.],\n",
            "        [5.],\n",
            "        [6.],\n",
            "        [7.],\n",
            "        [8.]])\n",
            "wei:\n",
            "tensor([[1.0000, 0.0000, 0.0000, 0.0000, 0.0000, 0.0000, 0.0000, 0.0000],\n",
            "        [0.5000, 0.5000, 0.0000, 0.0000, 0.0000, 0.0000, 0.0000, 0.0000],\n",
            "        [0.3333, 0.3333, 0.3333, 0.0000, 0.0000, 0.0000, 0.0000, 0.0000],\n",
            "        [0.2500, 0.2500, 0.2500, 0.2500, 0.0000, 0.0000, 0.0000, 0.0000],\n",
            "        [0.2000, 0.2000, 0.2000, 0.2000, 0.2000, 0.0000, 0.0000, 0.0000],\n",
            "        [0.1667, 0.1667, 0.1667, 0.1667, 0.1667, 0.1667, 0.0000, 0.0000],\n",
            "        [0.1429, 0.1429, 0.1429, 0.1429, 0.1429, 0.1429, 0.1429, 0.0000],\n",
            "        [0.1250, 0.1250, 0.1250, 0.1250, 0.1250, 0.1250, 0.1250, 0.1250]])\n",
            "xbow2:\n",
            "tensor(0.0020)\n",
            "tensor(-3.2363e-08)\n"
          ]
        },
        {
          "output_type": "execute_result",
          "data": {
            "text/plain": [
              "False"
            ]
          },
          "metadata": {},
          "execution_count": 27
        }
      ]
    },
    {
      "cell_type": "code",
      "source": [
        "# 用softmax\n",
        "# 为什么要用softmax？后续如果是模型过完一些层，得出来的是logits而不是probs\n",
        "# logits范围(-inf, inf)，而不是像上面都是类似probs的 1/n 范围[0.0, 1.0]\n",
        "# 过一下softmax，范围就到[0.0, 1.0]了\n",
        "\n",
        "wei = torch.tril(torch.ones(T, T))\n",
        "wei = torch.where(wei == 0.0, float('-inf'), wei)\n",
        "\n",
        "\"\"\"\n",
        "在PyTorch中，`F.softmax` 函数用于沿着指定的维度对输入张量进行softmax操作。对于张量 `wei`，其形状为 `(T, T)`，让我们分析一下 `F.softmax(wei, 1)` 和 `F.softmax(wei, -1)` 的含义：\n",
        "\n",
        "1. **`F.softmax(wei, 1)`**:\n",
        "   - 这里的 `1` 表示在第1个维度（即列方向）上进行softmax操作。对于每一行，`F.softmax` 会计算该行内的softmax值。\n",
        "\n",
        "2. **`F.softmax(wei, -1)`**:\n",
        "   - 这里的 `-1` 表示在最后一个维度上进行softmax操作。对于二维张量 `(T, T)` 来说，最后一个维度也是列方向（即维度1）。因此，`F.softmax(wei, -1)` 实际上与 `F.softmax(wei, 1)` 是等价的。\n",
        "\n",
        "总结来说，`F.softmax(wei, 1)` 和 `F.softmax(wei, -1)` 在形状为 `(T, T)` 的张量上执行时，是相同的操作，因为它们都在列方向上计算softmax。\n",
        "\"\"\"\n",
        "wei = F.softmax(wei, 1)\n",
        "print('wei:')\n",
        "print(wei)\n",
        "\n",
        "xbow3 = wei @ x\n",
        "\n",
        "# xbow2和xbow3是一样的\n",
        "# 因为xbow2和xbow3都是先除再加，xbow的mean是先加再除\n",
        "torch.allclose(xbow2, xbow3)"
      ],
      "metadata": {
        "id": "55UHB8xEqJEK",
        "colab": {
          "base_uri": "https://localhost:8080/"
        },
        "outputId": "a18e7802-e49b-4dbb-cf4b-e3dd353ee6d7"
      },
      "execution_count": 28,
      "outputs": [
        {
          "output_type": "stream",
          "name": "stdout",
          "text": [
            "wei:\n",
            "tensor([[1.0000, 0.0000, 0.0000, 0.0000, 0.0000, 0.0000, 0.0000, 0.0000],\n",
            "        [0.5000, 0.5000, 0.0000, 0.0000, 0.0000, 0.0000, 0.0000, 0.0000],\n",
            "        [0.3333, 0.3333, 0.3333, 0.0000, 0.0000, 0.0000, 0.0000, 0.0000],\n",
            "        [0.2500, 0.2500, 0.2500, 0.2500, 0.0000, 0.0000, 0.0000, 0.0000],\n",
            "        [0.2000, 0.2000, 0.2000, 0.2000, 0.2000, 0.0000, 0.0000, 0.0000],\n",
            "        [0.1667, 0.1667, 0.1667, 0.1667, 0.1667, 0.1667, 0.0000, 0.0000],\n",
            "        [0.1429, 0.1429, 0.1429, 0.1429, 0.1429, 0.1429, 0.1429, 0.0000],\n",
            "        [0.1250, 0.1250, 0.1250, 0.1250, 0.1250, 0.1250, 0.1250, 0.1250]])\n"
          ]
        },
        {
          "output_type": "execute_result",
          "data": {
            "text/plain": [
              "True"
            ]
          },
          "metadata": {},
          "execution_count": 28
        }
      ]
    },
    {
      "cell_type": "code",
      "source": [
        "# 终于来了！自注意力self-attention\n",
        "torch.manual_seed(1337)\n",
        "\n",
        "B, T, C = 2, 16, 8\n",
        "\n",
        "x = torch.randn(B, T, C)\n",
        "\n",
        "header_size = 4\n",
        "\n",
        "key = nn.Linear(C, header_size)\n",
        "query = nn.Linear(C, header_size)\n",
        "value = nn.Linear(C, header_size)\n",
        "\n",
        "# k,q,v shape (B, T, head_size)\n",
        "k = key(x)\n",
        "q = query(x)\n",
        "v = value(x)\n",
        "\n",
        "tril = torch.tril(torch.ones(T, T))\n",
        "wei = q @ k.transpose(1, 2) # shape (B, T, T)\n",
        "\n",
        "# 这里wei和tril的shape不一样，看来是能自动boardcast的\n",
        "wei = wei.masked_fill(tril == 0, float('-inf'))\n",
        "wei = F.softmax(wei, -1)\n",
        "\n",
        "x_attent_left = wei @ v\n",
        "\n",
        "x_attent_left.shape # shape (B, T, header_size)"
      ],
      "metadata": {
        "colab": {
          "base_uri": "https://localhost:8080/"
        },
        "id": "FVdYLk_4eDFv",
        "outputId": "3119e5aa-0c8f-4a1e-d5f5-89abe31c9e5a"
      },
      "execution_count": 29,
      "outputs": [
        {
          "output_type": "execute_result",
          "data": {
            "text/plain": [
              "torch.Size([2, 16, 4])"
            ]
          },
          "metadata": {},
          "execution_count": 29
        }
      ]
    },
    {
      "cell_type": "markdown",
      "source": [
        "注意：\n",
        "- 注意力是一种**交流机制**。可以看成是有向图中的节点互相关注，并将所有指向它们的节点的信息加权汇总，权重取决于数据。\n",
        "- 没有空间概念。注意力只是作用于一组向量。这就是我们需要对标记进行位置编码的原因。\n",
        "- 在 \"编码器 \"注意力区块中，只需删除用下三角矩阵进行屏蔽的一行，就可以让所有标记进行交流。这里的区块被称为 \"解码器 \"注意区块，因为它具有下三角形掩码，通常用于自回归设置，如语言建模。\n",
        "- \"自注意力\"只是指键和值与查询的来源相同。在 \"交叉注意力\"中，查询仍由 x 生成，但键和值来自其他外部来源（如编码器模块）。\n",
        "- \"缩放 \"注意力额外将 wei 除以 1/sqrt（head_size）。这样，当输入 Q、K 为单位方差时，wei 也将是单位方差，Softmax 将保持分散，不会过于饱和。说明如下"
      ],
      "metadata": {
        "id": "SSe2mDWXFT5t"
      }
    },
    {
      "cell_type": "code",
      "source": [
        "q = torch.randn(8, 4) # shape (T, head_size)\n",
        "print(f'q var: {q.var()}')\n",
        "\n",
        "k = torch.randn(8, 4) # shape (T, head_size)\n",
        "print(f'k var: {k.var()}')\n",
        "\n",
        "wei = q @ k.transpose(0, 1) # shape (T, T)\n",
        "print(f'wei var: {wei.var()}')"
      ],
      "metadata": {
        "colab": {
          "base_uri": "https://localhost:8080/"
        },
        "id": "6crEe9MUGsSq",
        "outputId": "57f74bc7-a7a2-4632-8b57-fb269ebf239b"
      },
      "execution_count": 30,
      "outputs": [
        {
          "output_type": "stream",
          "name": "stdout",
          "text": [
            "q var: 0.55227130651474\n",
            "k var: 1.0105643272399902\n",
            "wei var: 2.630138874053955\n"
          ]
        }
      ]
    },
    {
      "cell_type": "code",
      "source": [
        "wei_norm = wei / (4 ** 1/2) # head_size is 4\n",
        "\n",
        "print(f'wei_norm vars: {wei_norm.var()}')"
      ],
      "metadata": {
        "colab": {
          "base_uri": "https://localhost:8080/"
        },
        "id": "ny4e6uSrH4IB",
        "outputId": "ca2b5443-2825-4dba-87c4-1a643a0235e9"
      },
      "execution_count": 31,
      "outputs": [
        {
          "output_type": "stream",
          "name": "stdout",
          "text": [
            "wei_norm vars: 0.6575347185134888\n"
          ]
        }
      ]
    },
    {
      "cell_type": "code",
      "source": [
        "# 方差大了过完softmax会变得过于峰值(peak)\n",
        "\n",
        "# 设置打印选项，不使用科学计数法\n",
        "torch.set_printoptions(sci_mode=False)\n",
        "\n",
        "wei_probs = F.softmax(wei, dim=1)\n",
        "print(f'wei_probs: {wei_probs}') # 可以看到[3, 3] 不用科学计数法都是0.0000了，这样整个向量会趋向于one-hot\n",
        "# one-hot有什么不好呢？个人的想法是这里wei是每个token和其他token的关系权重，两两之间总归是有一些关系的\n",
        "\n",
        "wei_norm_probs = F.softmax(wei_norm, dim=1)\n",
        "print(f'wei_norm_probs: {wei_norm_probs}')"
      ],
      "metadata": {
        "colab": {
          "base_uri": "https://localhost:8080/"
        },
        "id": "Z0bQUBvKIZoS",
        "outputId": "2f90e9ab-231f-4c25-b608-ef27794b00de"
      },
      "execution_count": 32,
      "outputs": [
        {
          "output_type": "stream",
          "name": "stdout",
          "text": [
            "wei_probs: tensor([[    0.0127,     0.1197,     0.0321,     0.2054,     0.0137,     0.5546,\n",
            "             0.0208,     0.0410],\n",
            "        [    0.0285,     0.0135,     0.0004,     0.1478,     0.0122,     0.0009,\n",
            "             0.1557,     0.6410],\n",
            "        [    0.0442,     0.0271,     0.0717,     0.0142,     0.6493,     0.0171,\n",
            "             0.1586,     0.0178],\n",
            "        [    0.0960,     0.0813,     0.5371,     0.0106,     0.0814,     0.1663,\n",
            "             0.0118,     0.0155],\n",
            "        [    0.0609,     0.0431,     0.0761,     0.1198,     0.1977,     0.0493,\n",
            "             0.4034,     0.0498],\n",
            "        [    0.3244,     0.0644,     0.2650,     0.0174,     0.1623,     0.0263,\n",
            "             0.0584,     0.0818],\n",
            "        [    0.0924,     0.0186,     0.0485,     0.0088,     0.6168,     0.0040,\n",
            "             0.1757,     0.0353],\n",
            "        [    0.3909,     0.0708,     0.1346,     0.0087,     0.2104,     0.0115,\n",
            "             0.0322,     0.1409]])\n",
            "wei_norm_probs: tensor([[0.0491, 0.1505, 0.0779, 0.1971, 0.0508, 0.3239, 0.0627, 0.0880],\n",
            "        [0.0835, 0.0575, 0.0093, 0.1900, 0.0546, 0.0146, 0.1950, 0.3956],\n",
            "        [0.0943, 0.0738, 0.1201, 0.0535, 0.3613, 0.0586, 0.1786, 0.0598],\n",
            "        [0.1315, 0.1210, 0.3109, 0.0437, 0.1210, 0.1730, 0.0461, 0.0529],\n",
            "        [0.0949, 0.0798, 0.1061, 0.1331, 0.1709, 0.0853, 0.2442, 0.0858],\n",
            "        [0.2223, 0.0990, 0.2009, 0.0514, 0.1572, 0.0633, 0.0943, 0.1116],\n",
            "        [0.1376, 0.0618, 0.0996, 0.0425, 0.3554, 0.0285, 0.1897, 0.0850],\n",
            "        [0.2529, 0.1076, 0.1484, 0.0376, 0.1856, 0.0434, 0.0726, 0.1518]])\n"
          ]
        }
      ]
    },
    {
      "cell_type": "markdown",
      "source": [
        "# 完整的实现GPT"
      ],
      "metadata": {
        "id": "ifRteA59NNct"
      }
    },
    {
      "cell_type": "code",
      "source": [
        "class GPTConfig:\n",
        "    def __init__(self, config):\n",
        "        self.B = config['B']\n",
        "        self.T = config['T']\n",
        "        self.C = config['C']\n",
        "\n",
        "        self.vocab_size = config['vocab_size']\n",
        "\n",
        "        self.header_size = config['header_size']\n",
        "        self.headers_num = config['headers_num'] # 要不先不实现多头，跑毛爷爷的诗，单头可能也可以了\n",
        "\n",
        "        self.blocks_num = config['blocks_num']\n",
        "        self.ffn_size = config['ffn_size']\n",
        "\n",
        "class Block(nn.Module):\n",
        "    def __init__(self, config):\n",
        "        super().__init__()\n",
        "        self.config = config\n",
        "\n",
        "        self.key = nn.Linear(config.C, config.header_size * config.headers_num)\n",
        "        self.query = nn.Linear(config.C, config.header_size * config.headers_num)\n",
        "        self.value = nn.Linear(config.C, config.header_size * config.headers_num)\n",
        "        self.attn_fc = nn.Linear(config.header_size * config.headers_num, config.C)\n",
        "        # self.feedforward = nn.Linear(config.header, config.ffn_size)\n",
        "        # self.feedforward = nn.Linear(config.header, config.C) # ffn_size应该就是C，不然过下一个block的时候dim和过完embd的不一样了\n",
        "        # 这样应该能学习更多的参数，也不会导致过下一个block的dim不一样\n",
        "        # 但是我没明白的是直接这么提升维度，信息从何而来呢？这就有点像是线性代数里面平行的vector\n",
        "        self.ff1 = nn.Linear(config.C, config.ffn_size)\n",
        "        self.ff2 = nn.Linear(config.ffn_size, config.C)\n",
        "\n",
        "    def split_headers(self, x, batch_size):\n",
        "        \"\"\"Split the last dimension into (num_heads, head_dim) and transpose the result.\"\"\"\n",
        "        x = x.view(batch_size, config.T, self.config.headers_num, self.config.header_size)\n",
        "\n",
        "        return x.transpose(1, 2) # shape (B, headers_num, T, header_size) 这里需要thinking一下why\n",
        "\n",
        "    def combine_headers(self, x, batch_size):\n",
        "        \"\"\"\n",
        "            Combine the heads and restore the original last dimension.\n",
        "            x.shape (B, headers_num, T, header_size)\n",
        "        \"\"\"\n",
        "        x = x.transpose(1, 2).contiguous()\n",
        "        # 这里view中的-1，表示自动计算。其实可以直接用T\n",
        "        return x.view(batch_size, self.config.T, self.config.headers_num * self.config.header_size)\n",
        "\n",
        "    def attn(self, x):\n",
        "        \"\"\"\n",
        "        x.shape (B, T, C)\n",
        "        \"\"\"\n",
        "        config = self.config\n",
        "        B, T, C = x.shape\n",
        "\n",
        "        # k, q, v shape (B, headers_num, T, header_size)\n",
        "        k = self.split_headers(self.key(x), B)\n",
        "        q = self.split_headers(self.query(x), B)\n",
        "        v = self.split_headers(self.value(x), B)\n",
        "\n",
        "        tril = torch.tril(torch.ones(config.T, config.T))\n",
        "        wei = q @ k.transpose(-2, -1) # 这个时候用负数的兼容性就体现了\n",
        "        wei = wei.masked_fill(tril == 0, float('-inf'))\n",
        "        wei = wei / (config.header_size ** 0.5)\n",
        "        wei = F.softmax(wei, dim=-1)\n",
        "        # wei.shape (B, headers_num, T, T)\n",
        "\n",
        "        out = wei @ v # out.shape (B, headers_num, T, header_size)\n",
        "        out = self.combine_headers(out, B)  # out.shape(B, T, config.header_size * config.headers_num)\n",
        "        x = self.attn_fc(out)\n",
        "\n",
        "        return x\n",
        "\n",
        "    def ffn(self, x):\n",
        "        x = self.ff1(x)\n",
        "        x = F.gelu(x, approximate='tanh')\n",
        "        out2 = self.ff2(x)\n",
        "        return out2\n",
        "\n",
        "    def layernorm(self, x, epsilon=1e-5):\n",
        "        mean = torch.mean(x, axis=-1, keepdims=True)\n",
        "        std = torch.sqrt(x.var(axis=-1, keepdims=True) + epsilon)\n",
        "        norm_x = (x - mean) / std\n",
        "        return norm_x\n",
        "\n",
        "    def forward(self, x):\n",
        "        # 应该还有一个norm，为什么要norm有点忘了，先不实现\n",
        "        x = x + self.attn(self.layernorm(x))\n",
        "        x = x + self.ffn(self.layernorm(x))\n",
        "        return x\n",
        "\n",
        "\n",
        "\n",
        "class GPT(nn.Module):\n",
        "    def __init__(self, config):\n",
        "        super().__init__()\n",
        "        self.config = config\n",
        "        self.wte = nn.Embedding(config.vocab_size, config.C)\n",
        "        self.wpe = nn.Embedding(config.T, config.C)\n",
        "        self.blocks = nn.ModuleList([Block(config) for _ in range(config.blocks_num)])\n",
        "        # why lm_fc. 你可以🤔，每个position都是aggregate左侧的信息，然后再深度计算\n",
        "        # 最后你的task是next token prediction\n",
        "        # 所以你要把这个\"aggregate左侧的信息，然后再深度计算\"的信息，映射到token embd空间\n",
        "        # 然后通过wte逆向 映射出来 tokenid\n",
        "        self.lm_fc = nn.Linear(config.C, config.C)\n",
        "\n",
        "\n",
        "    def forward(self, idx, targets=None):\n",
        "        B, T = idx.shape\n",
        "        token_idx = idx\n",
        "        range_tensor = torch.arange(T)\n",
        "        position_idx = range_tensor.expand(B, T)\n",
        "\n",
        "        x = self.wte(token_idx) + self.wpe(position_idx)\n",
        "        for block in self.blocks:\n",
        "            x = block(x)\n",
        "        x = self.lm_fc(x) # (B, T, C)\n",
        "        # 使用嵌入层的权重转置进行反向映射\n",
        "        logits = torch.matmul(x, self.wte.weight.t())\n",
        "\n",
        "\n",
        "        if targets is None:\n",
        "            loss = None\n",
        "        else:\n",
        "            targets = targets.view(B*T)\n",
        "             # 要softmax吗？没想明白\n",
        "            logits = logits.view(B*T, vocab_size)\n",
        "            loss = F.cross_entropy(logits, targets)\n",
        "\n",
        "        return logits, loss\n",
        "\n",
        "    def generate(self, idx, max_new_tokens=50):\n",
        "\n",
        "        for step in range(max_new_tokens):\n",
        "            _B, seq_len = idx.shape\n",
        "            if seq_len > self.config.T:\n",
        "                idx_fixedlen = idx[:, -self.config.T:]\n",
        "                _B, seq_len = idx_fixedlen.shape\n",
        "            else:\n",
        "\n",
        "                padding_len = self.config.T - seq_len\n",
        "                idx_fixedlen = F.pad(idx, (0, padding_len), \"constant\", 0)\n",
        "\n",
        "            logits, loss = self(idx_fixedlen)\n",
        "            logits = logits[:, seq_len - 1, :]\n",
        "            probs = F.softmax(logits, dim=-1)\n",
        "            idx_next = torch.multinomial(probs, num_samples=1)\n",
        "            idx = torch.cat((idx, idx_next), dim=1)\n",
        "\n",
        "        return idx\n",
        "\n",
        "\n",
        "config = GPTConfig({'B': 16, 'T': 32, 'C': 64, 'vocab_size': vocab_size, 'header_size':16, 'headers_num': 4, 'blocks_num': 4, 'ffn_size': 256})\n",
        "m = GPT(config)\n",
        "\n",
        "# print the number of parameters in the model\n",
        "print(sum(p.numel() for p in m.parameters())/1e6, 'M parameters')\n",
        "\n",
        "# idx = encode('北国风光')\n",
        "# print(idx)\n",
        "\n",
        "batch_size = config.B\n",
        "block_size = config.T\n",
        "\n",
        "def get_batch(split):\n",
        "    data = train_data if split == 'train' else valid_data\n",
        "    ix = torch.randint(len(data) - block_size, (batch_size,))\n",
        "\n",
        "    x = torch.stack([data[i:i+block_size] for i in ix])\n",
        "    y = torch.stack([data[i+1: i+block_size+1] for i in ix])\n",
        "    return x, y\n",
        "\n",
        "xb, yb = get_batch('train')\n",
        "\n",
        "print('token id 0:' + decode([0]))\n",
        "\n",
        "print(f'xb: {xb.shape}')\n",
        "print(f'vocab_size: {vocab_size}')\n",
        "\n",
        "print(f'wpe: {m.wpe}')\n",
        "\n",
        "logits, loss = m(xb, yb)\n",
        "print(f'logits: {logits}')\n",
        "print(f'loss: {loss}')\n",
        "\n",
        "# gen_idx = torch.tensor([encode('北国风光')], dtype=torch.long)\n",
        "gen_idx = torch.zeros((1, 1), dtype=torch.long)\n",
        "print(f'gen_idx: {gen_idx.shape}')\n",
        "print(decode(m.generate(idx = gen_idx, max_new_tokens=500)[0].tolist()))"
      ],
      "metadata": {
        "colab": {
          "base_uri": "https://localhost:8080/"
        },
        "id": "cFDVvZnLNSD7",
        "outputId": "e035f1cd-0354-48b4-bbd1-a57681bc85eb"
      },
      "execution_count": 38,
      "outputs": [
        {
          "output_type": "stream",
          "name": "stdout",
          "text": [
            "0.20928 M parameters\n",
            "token id 0:\n",
            "\n",
            "xb: torch.Size([16, 32])\n",
            "vocab_size: 65\n",
            "wpe: Embedding(32, 64)\n",
            "logits: tensor([[ -8.7881, -12.6831,  15.4393,  ...,   5.0796,  -2.8202,  10.1654],\n",
            "        [  0.1913,  -1.2256,   2.1896,  ...,   2.7092,   8.2599,  -8.5259],\n",
            "        [ -1.8433,  -1.7806,  -6.3485,  ...,   2.7871,  -7.8156,  -6.5514],\n",
            "        ...,\n",
            "        [  0.8148,  -3.6508,  -2.7441,  ...,  -1.7563,  -3.1374,  -3.5158],\n",
            "        [  1.6214, -12.0208,   9.7542,  ...,  -6.4837,  -1.8898,  12.8367],\n",
            "        [  2.4415,  -2.6835,  -5.8897,  ...,  -2.1421,  -2.8250,   5.7181]],\n",
            "       grad_fn=<ViewBackward0>)\n",
            "loss: 16.77750587463379\n",
            "gen_idx: torch.Size([1, 1])\n",
            "\n",
            "Vy$F3?bd3OTh.nCQnrLKh.T?3QWWdCz333333333333333333333333333333333333333333333333333333333333333333333333333333333333333333333333333333333333333333333333333333333333333333333333333333333333333333333333333333333333333333333333333333333333333333333333333333333333333o$33333333333333333333333333333333333333333333333333333333333333333333333333333333333333333333333333333333333333333333333333333333333333333333333333333333333333333333333333333333333333333333333333333333333333333333333333333333333333333333\n"
          ]
        }
      ]
    },
    {
      "cell_type": "code",
      "source": [
        "optimizer = torch.optim.AdamW(m.parameters(), lr=1e-3)"
      ],
      "metadata": {
        "id": "VOPpLEioft4q"
      },
      "execution_count": 39,
      "outputs": []
    },
    {
      "cell_type": "code",
      "source": [
        "eval_interval = 100\n",
        "max_iter = 5000\n",
        "\n",
        "for iter in range(max_iter):\n",
        "    xb, yb = get_batch('train')\n",
        "\n",
        "    logits, loss = m(xb, yb)\n",
        "\n",
        "    if iter % eval_interval == 0 or iter == max_iter:\n",
        "        x_val, y_val = get_batch('valid')\n",
        "        logits_val, loss_val = m(x_val, y_val)\n",
        "        print(f'step: {iter}, train loss: {loss}, valid loss:{loss_val}')\n",
        "\n",
        "    optimizer.zero_grad(set_to_none=True)\n",
        "\n",
        "    loss.backward()\n",
        "\n",
        "    optimizer.step()\n",
        "\n",
        "# 跑了半天loss 3.x，比bigram的还高。多跑几轮能到2.5，loss有波动\n",
        "# 增加header_size，blocks_num， batch_size 没啥用\n",
        "# 还有几个没有优化的:1. 非线性激活 2.LayerNorm 3. MultiHead\n",
        "# 看了下Andrej老师的notebook，step5000 trainloss能降到1.6,valloss能降到1.8\n",
        "# 这里可能有2个原因，1是数据集毛爷爷的诗还是不够多，然后vocab比英语的chars要大不少；2是代码有bug，\n",
        "# 但是还是要想明白一点，预训练和SFT可能不太一样，loss不可能逼近0，因为譬如第一个字去预测第二个字，总是会有loss的，加大block_size，平均下来应该能降低一些loss"
      ],
      "metadata": {
        "colab": {
          "base_uri": "https://localhost:8080/"
        },
        "id": "1wnembm7NmIx",
        "outputId": "2901b57b-5432-4775-e963-ff6f76d18ae8"
      },
      "execution_count": 40,
      "outputs": [
        {
          "output_type": "stream",
          "name": "stdout",
          "text": [
            "step: 0, train loss: 16.2195987701416, valid loss:16.739917755126953\n",
            "step: 100, train loss: 2.8510680198669434, valid loss:2.930788040161133\n",
            "step: 200, train loss: 2.7266013622283936, valid loss:2.6504437923431396\n",
            "step: 300, train loss: 2.5705726146698, valid loss:2.63372802734375\n",
            "step: 400, train loss: 2.5987977981567383, valid loss:2.5321881771087646\n",
            "step: 500, train loss: 2.448687791824341, valid loss:2.4691874980926514\n",
            "step: 600, train loss: 2.259223222732544, valid loss:2.383213520050049\n",
            "step: 700, train loss: 2.347440004348755, valid loss:2.362677574157715\n",
            "step: 800, train loss: 2.223034381866455, valid loss:2.3258039951324463\n",
            "step: 900, train loss: 2.2427568435668945, valid loss:2.2008426189422607\n",
            "step: 1000, train loss: 2.170031785964966, valid loss:2.1725106239318848\n",
            "step: 1100, train loss: 2.1783382892608643, valid loss:2.079711675643921\n",
            "step: 1200, train loss: 2.0962235927581787, valid loss:2.289428234100342\n",
            "step: 1300, train loss: 2.0045337677001953, valid loss:2.1986746788024902\n",
            "step: 1400, train loss: 2.041278600692749, valid loss:2.0801851749420166\n",
            "step: 1500, train loss: 2.0471391677856445, valid loss:2.109999418258667\n",
            "step: 1600, train loss: 1.8819615840911865, valid loss:2.154681921005249\n",
            "step: 1700, train loss: 2.0188210010528564, valid loss:1.9881068468093872\n",
            "step: 1800, train loss: 2.021975517272949, valid loss:2.0493149757385254\n",
            "step: 1900, train loss: 1.9728046655654907, valid loss:2.1001012325286865\n",
            "step: 2000, train loss: 1.8932937383651733, valid loss:2.008559465408325\n",
            "step: 2100, train loss: 1.9653593301773071, valid loss:2.047637701034546\n",
            "step: 2200, train loss: 1.874763011932373, valid loss:1.9390016794204712\n",
            "step: 2300, train loss: 1.8334041833877563, valid loss:2.060570240020752\n",
            "step: 2400, train loss: 1.9809454679489136, valid loss:2.000936985015869\n",
            "step: 2500, train loss: 1.9515380859375, valid loss:2.02266526222229\n",
            "step: 2600, train loss: 1.9401218891143799, valid loss:2.0772976875305176\n",
            "step: 2700, train loss: 1.930800437927246, valid loss:1.9927598237991333\n",
            "step: 2800, train loss: 1.9306608438491821, valid loss:1.8631606101989746\n",
            "step: 2900, train loss: 1.8317766189575195, valid loss:1.9863289594650269\n",
            "step: 3000, train loss: 1.8836815357208252, valid loss:1.8688451051712036\n",
            "step: 3100, train loss: 1.7833360433578491, valid loss:1.9748293161392212\n",
            "step: 3200, train loss: 1.829288363456726, valid loss:1.8791042566299438\n",
            "step: 3300, train loss: 1.7281566858291626, valid loss:1.9590487480163574\n",
            "step: 3400, train loss: 1.8311352729797363, valid loss:2.005864381790161\n",
            "step: 3500, train loss: 1.6925126314163208, valid loss:1.936225175857544\n",
            "step: 3600, train loss: 1.8126894235610962, valid loss:1.9365369081497192\n",
            "step: 3700, train loss: 1.8461283445358276, valid loss:1.8328663110733032\n",
            "step: 3800, train loss: 1.6339290142059326, valid loss:1.9450554847717285\n",
            "step: 3900, train loss: 1.6949447393417358, valid loss:1.8965554237365723\n",
            "step: 4000, train loss: 1.7377657890319824, valid loss:1.8460971117019653\n",
            "step: 4100, train loss: 1.6796724796295166, valid loss:1.850672721862793\n",
            "step: 4200, train loss: 1.856589913368225, valid loss:1.836524248123169\n",
            "step: 4300, train loss: 1.6625741720199585, valid loss:1.79075026512146\n",
            "step: 4400, train loss: 1.764699935913086, valid loss:1.895796298980713\n",
            "step: 4500, train loss: 1.8941258192062378, valid loss:1.8438637256622314\n",
            "step: 4600, train loss: 1.8789581060409546, valid loss:1.8257436752319336\n",
            "step: 4700, train loss: 1.6607236862182617, valid loss:1.9731645584106445\n",
            "step: 4800, train loss: 1.775122046470642, valid loss:1.940584421157837\n",
            "step: 4900, train loss: 1.6305174827575684, valid loss:1.8237664699554443\n"
          ]
        }
      ]
    },
    {
      "cell_type": "code",
      "source": [
        "gen_idx = torch.tensor([encode('北国风光')], dtype=torch.long)\n",
        "print(decode(m.generate(idx = gen_idx, max_new_tokens=500)[0].tolist())) # 实际效果也一般"
      ],
      "metadata": {
        "colab": {
          "base_uri": "https://localhost:8080/",
          "height": 257
        },
        "id": "WJZssbgYO-Zz",
        "outputId": "2172aa1b-d614-4ef3-eeae-05dac6000ef1"
      },
      "execution_count": 36,
      "outputs": [
        {
          "output_type": "error",
          "ename": "KeyError",
          "evalue": "'北'",
          "traceback": [
            "\u001b[0;31m---------------------------------------------------------------------------\u001b[0m",
            "\u001b[0;31mKeyError\u001b[0m                                  Traceback (most recent call last)",
            "\u001b[0;32m<ipython-input-36-30b4d51a6a4c>\u001b[0m in \u001b[0;36m<cell line: 1>\u001b[0;34m()\u001b[0m\n\u001b[0;32m----> 1\u001b[0;31m \u001b[0mgen_idx\u001b[0m \u001b[0;34m=\u001b[0m \u001b[0mtorch\u001b[0m\u001b[0;34m.\u001b[0m\u001b[0mtensor\u001b[0m\u001b[0;34m(\u001b[0m\u001b[0;34m[\u001b[0m\u001b[0mencode\u001b[0m\u001b[0;34m(\u001b[0m\u001b[0;34m'北国风光'\u001b[0m\u001b[0;34m)\u001b[0m\u001b[0;34m]\u001b[0m\u001b[0;34m,\u001b[0m \u001b[0mdtype\u001b[0m\u001b[0;34m=\u001b[0m\u001b[0mtorch\u001b[0m\u001b[0;34m.\u001b[0m\u001b[0mlong\u001b[0m\u001b[0;34m)\u001b[0m\u001b[0;34m\u001b[0m\u001b[0;34m\u001b[0m\u001b[0m\n\u001b[0m\u001b[1;32m      2\u001b[0m \u001b[0mprint\u001b[0m\u001b[0;34m(\u001b[0m\u001b[0mdecode\u001b[0m\u001b[0;34m(\u001b[0m\u001b[0mm\u001b[0m\u001b[0;34m.\u001b[0m\u001b[0mgenerate\u001b[0m\u001b[0;34m(\u001b[0m\u001b[0midx\u001b[0m \u001b[0;34m=\u001b[0m \u001b[0mgen_idx\u001b[0m\u001b[0;34m,\u001b[0m \u001b[0mmax_new_tokens\u001b[0m\u001b[0;34m=\u001b[0m\u001b[0;36m500\u001b[0m\u001b[0;34m)\u001b[0m\u001b[0;34m[\u001b[0m\u001b[0;36m0\u001b[0m\u001b[0;34m]\u001b[0m\u001b[0;34m.\u001b[0m\u001b[0mtolist\u001b[0m\u001b[0;34m(\u001b[0m\u001b[0;34m)\u001b[0m\u001b[0;34m)\u001b[0m\u001b[0;34m)\u001b[0m \u001b[0;31m# 实际效果也一般\u001b[0m\u001b[0;34m\u001b[0m\u001b[0;34m\u001b[0m\u001b[0m\n",
            "\u001b[0;32m<ipython-input-9-09c265ab1aa6>\u001b[0m in \u001b[0;36m<lambda>\u001b[0;34m(s)\u001b[0m\n\u001b[0;32m----> 1\u001b[0;31m \u001b[0mencode\u001b[0m \u001b[0;34m=\u001b[0m \u001b[0;32mlambda\u001b[0m \u001b[0ms\u001b[0m\u001b[0;34m:\u001b[0m \u001b[0;34m[\u001b[0m\u001b[0mstoi\u001b[0m\u001b[0;34m[\u001b[0m\u001b[0mc\u001b[0m\u001b[0;34m]\u001b[0m \u001b[0;32mfor\u001b[0m \u001b[0mc\u001b[0m \u001b[0;32min\u001b[0m \u001b[0ms\u001b[0m\u001b[0;34m]\u001b[0m\u001b[0;34m\u001b[0m\u001b[0;34m\u001b[0m\u001b[0m\n\u001b[0m\u001b[1;32m      2\u001b[0m \u001b[0mdecode\u001b[0m \u001b[0;34m=\u001b[0m \u001b[0;32mlambda\u001b[0m \u001b[0mids\u001b[0m\u001b[0;34m:\u001b[0m \u001b[0;34m''\u001b[0m\u001b[0;34m.\u001b[0m\u001b[0mjoin\u001b[0m\u001b[0;34m(\u001b[0m\u001b[0;34m[\u001b[0m\u001b[0mitos\u001b[0m\u001b[0;34m[\u001b[0m\u001b[0mi\u001b[0m\u001b[0;34m]\u001b[0m \u001b[0;32mfor\u001b[0m \u001b[0mi\u001b[0m \u001b[0;32min\u001b[0m \u001b[0mids\u001b[0m\u001b[0;34m]\u001b[0m\u001b[0;34m)\u001b[0m\u001b[0;34m\u001b[0m\u001b[0;34m\u001b[0m\u001b[0m\n",
            "\u001b[0;32m<ipython-input-9-09c265ab1aa6>\u001b[0m in \u001b[0;36m<listcomp>\u001b[0;34m(.0)\u001b[0m\n\u001b[0;32m----> 1\u001b[0;31m \u001b[0mencode\u001b[0m \u001b[0;34m=\u001b[0m \u001b[0;32mlambda\u001b[0m \u001b[0ms\u001b[0m\u001b[0;34m:\u001b[0m \u001b[0;34m[\u001b[0m\u001b[0mstoi\u001b[0m\u001b[0;34m[\u001b[0m\u001b[0mc\u001b[0m\u001b[0;34m]\u001b[0m \u001b[0;32mfor\u001b[0m \u001b[0mc\u001b[0m \u001b[0;32min\u001b[0m \u001b[0ms\u001b[0m\u001b[0;34m]\u001b[0m\u001b[0;34m\u001b[0m\u001b[0;34m\u001b[0m\u001b[0m\n\u001b[0m\u001b[1;32m      2\u001b[0m \u001b[0mdecode\u001b[0m \u001b[0;34m=\u001b[0m \u001b[0;32mlambda\u001b[0m \u001b[0mids\u001b[0m\u001b[0;34m:\u001b[0m \u001b[0;34m''\u001b[0m\u001b[0;34m.\u001b[0m\u001b[0mjoin\u001b[0m\u001b[0;34m(\u001b[0m\u001b[0;34m[\u001b[0m\u001b[0mitos\u001b[0m\u001b[0;34m[\u001b[0m\u001b[0mi\u001b[0m\u001b[0;34m]\u001b[0m \u001b[0;32mfor\u001b[0m \u001b[0mi\u001b[0m \u001b[0;32min\u001b[0m \u001b[0mids\u001b[0m\u001b[0;34m]\u001b[0m\u001b[0;34m)\u001b[0m\u001b[0;34m\u001b[0m\u001b[0;34m\u001b[0m\u001b[0m\n",
            "\u001b[0;31mKeyError\u001b[0m: '北'"
          ]
        }
      ]
    }
  ],
  "metadata": {
    "colab": {
      "provenance": [],
      "collapsed_sections": [
        "3BIWez3s2klu",
        "hbR7rffa2zCf",
        "T7Lsk5R91v2y"
      ],
      "authorship_tag": "ABX9TyMl+jgnKiIsXbzt5SIjkTS+",
      "include_colab_link": true
    },
    "kernelspec": {
      "display_name": "Python 3",
      "name": "python3"
    },
    "language_info": {
      "name": "python"
    }
  },
  "nbformat": 4,
  "nbformat_minor": 0
}