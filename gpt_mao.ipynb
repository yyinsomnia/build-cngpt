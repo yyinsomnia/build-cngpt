{
  "cells": [
    {
      "cell_type": "markdown",
      "metadata": {
        "id": "view-in-github",
        "colab_type": "text"
      },
      "source": [
        "<a href=\"https://colab.research.google.com/github/yyinsomnia/build-cngpt/blob/main/gpt_mao.ipynb\" target=\"_parent\"><img src=\"https://colab.research.google.com/assets/colab-badge.svg\" alt=\"Open In Colab\"/></a>"
      ]
    },
    {
      "cell_type": "markdown",
      "source": [
        "# 环境和依赖\n",
        "\n"
      ],
      "metadata": {
        "id": "3BIWez3s2klu"
      }
    },
    {
      "cell_type": "code",
      "execution_count": 99,
      "metadata": {
        "id": "n_fPxK2iaPZD",
        "colab": {
          "base_uri": "https://localhost:8080/"
        },
        "outputId": "ef0cde28-1495-44f9-efe7-35ea038d7f1a"
      },
      "outputs": [
        {
          "output_type": "stream",
          "name": "stdout",
          "text": [
            "--2024-07-18 08:48:29--  https://raw.githubusercontent.com/karpathy/char-rnn/master/data/tinyshakespeare/input.txt\n",
            "Resolving raw.githubusercontent.com (raw.githubusercontent.com)... 185.199.108.133, 185.199.109.133, 185.199.110.133, ...\n",
            "Connecting to raw.githubusercontent.com (raw.githubusercontent.com)|185.199.108.133|:443... connected.\n",
            "HTTP request sent, awaiting response... 200 OK\n",
            "Length: 1115394 (1.1M) [text/plain]\n",
            "Saving to: ‘input.txt’\n",
            "\n",
            "\rinput.txt             0%[                    ]       0  --.-KB/s               \rinput.txt           100%[===================>]   1.06M  --.-KB/s    in 0.01s   \n",
            "\n",
            "2024-07-18 08:48:29 (82.7 MB/s) - ‘input.txt’ saved [1115394/1115394]\n",
            "\n"
          ]
        }
      ],
      "source": [
        "# !wget https://raw.githubusercontent.com/yyinsomnia/openai-ex/main/input.txt\n",
        "\n",
        "!wget https://raw.githubusercontent.com/karpathy/char-rnn/master/data/tinyshakespeare/input.txt"
      ]
    },
    {
      "cell_type": "markdown",
      "source": [
        "# 传统的语言模型bigram"
      ],
      "metadata": {
        "id": "hbR7rffa2zCf"
      }
    },
    {
      "cell_type": "code",
      "execution_count": 100,
      "metadata": {
        "id": "U9iboUIQbZll"
      },
      "outputs": [],
      "source": [
        "with open('input.txt') as f:\n",
        "    text = f.read()"
      ]
    },
    {
      "cell_type": "code",
      "execution_count": 101,
      "metadata": {
        "colab": {
          "base_uri": "https://localhost:8080/"
        },
        "id": "4csMaMk4bkxQ",
        "outputId": "a2352e20-a70f-4481-b2df-66f1964349af"
      },
      "outputs": [
        {
          "output_type": "stream",
          "name": "stdout",
          "text": [
            "length of the mao-poetic in characters is : 1115394\n"
          ]
        }
      ],
      "source": [
        "print('length of the mao-poetic in characters is :', len(text))"
      ]
    },
    {
      "cell_type": "code",
      "execution_count": 102,
      "metadata": {
        "colab": {
          "base_uri": "https://localhost:8080/"
        },
        "id": "MtOUUVQTdEyM",
        "outputId": "a41d075c-5be7-442d-b8b6-88844eb66f8b"
      },
      "outputs": [
        {
          "output_type": "stream",
          "name": "stdout",
          "text": [
            "First Citizen:\n",
            "Before we proceed any further, hear me speak.\n",
            "\n",
            "All:\n",
            "Speak, speak.\n",
            "\n",
            "First Citizen:\n",
            "You are all resolved rather to die than to famish?\n",
            "\n",
            "All:\n",
            "Resolved. resolved.\n",
            "\n",
            "First Citizen:\n",
            "First, you know Caius Marcius is chief enemy to the people.\n",
            "\n",
            "All:\n",
            "We know't, we know't.\n",
            "\n",
            "First Citizen:\n",
            "Let us kill him, and we'll have corn at our own price.\n",
            "Is't a verdict?\n",
            "\n",
            "All:\n",
            "No more talking on't; let it be done: away, away!\n",
            "\n",
            "Second Citizen:\n",
            "One word, good citizens.\n",
            "\n",
            "First Citizen:\n",
            "We are accounted poor citizens, the patricians good.\n",
            "What authority surfeits on would relieve us: if they\n",
            "would yield us but the superfluity, while it were\n",
            "wholesome, we might guess they relieved us humanely;\n",
            "but they think we are too dear: the leanness that\n",
            "afflicts us, the object of our misery, is as an\n",
            "inventory to particularise their abundance; our\n",
            "sufferance is a gain to them Let us revenge this with\n",
            "our pikes, ere we become rakes: for the gods know I\n",
            "speak this in hunger for bread, not in thirst for revenge.\n",
            "\n",
            "\n"
          ]
        }
      ],
      "source": [
        "print(text[:1000])"
      ]
    },
    {
      "cell_type": "code",
      "execution_count": 103,
      "metadata": {
        "id": "rVxLO6kDdLl8"
      },
      "outputs": [],
      "source": [
        "chars = sorted(list(set(text)))\n",
        "vocab_size = len(chars)"
      ]
    },
    {
      "cell_type": "code",
      "execution_count": 104,
      "metadata": {
        "colab": {
          "base_uri": "https://localhost:8080/"
        },
        "id": "ZJY9wNQ1ddDZ",
        "outputId": "9f997b5c-72fc-47f4-91de-54a639ed8b8c"
      },
      "outputs": [
        {
          "output_type": "stream",
          "name": "stdout",
          "text": [
            "\n",
            " !$&',-.3:;?ABCDEFGHIJKLMNOPQRSTUVWXYZabcdefghijklmnopqrstuvwxyz\n",
            "65\n"
          ]
        }
      ],
      "source": [
        "print(''.join(chars))\n",
        "print(vocab_size)"
      ]
    },
    {
      "cell_type": "code",
      "execution_count": 105,
      "metadata": {
        "id": "mdqOWRzPdl0z"
      },
      "outputs": [],
      "source": [
        "stoi = {char:idx for idx, char in enumerate(chars)}\n",
        "itos = {idx: char for idx, char in enumerate(chars)}"
      ]
    },
    {
      "cell_type": "code",
      "execution_count": 107,
      "metadata": {
        "colab": {
          "base_uri": "https://localhost:8080/"
        },
        "id": "abYw3i2heML7",
        "outputId": "b5f3f4be-0ec2-420f-b94f-4b485cdc679b"
      },
      "outputs": [
        {
          "output_type": "stream",
          "name": "stdout",
          "text": [
            "[46, 47, 47, 1, 58, 46, 43, 56, 43]\n",
            "hii there\n"
          ]
        }
      ],
      "source": [
        "# print(stoi['北'])\n",
        "# print(itos[273])"
      ]
    },
    {
      "cell_type": "code",
      "execution_count": 108,
      "metadata": {
        "id": "CyiU6MpTelc3"
      },
      "outputs": [],
      "source": [
        "encode = lambda s: [stoi[c] for c in s]\n",
        "decode = lambda ids: ''.join([itos[i] for i in ids])"
      ]
    },
    {
      "cell_type": "code",
      "execution_count": 109,
      "metadata": {
        "colab": {
          "base_uri": "https://localhost:8080/"
        },
        "id": "zfIrIOn6fBQu",
        "outputId": "c75f0b57-e221-4e38-a9bb-e097c1a22ceb"
      },
      "outputs": [
        {
          "output_type": "stream",
          "name": "stdout",
          "text": [
            "[46, 47, 47, 1, 58, 46, 43, 56, 43]\n",
            "hii there\n"
          ]
        }
      ],
      "source": [
        "# 毛爷爷的诗\n",
        "# print(encode('北国风光'))\n",
        "# print(decode([273, 415, 2025, 176]))\n",
        "\n",
        "# shakespeare poetry\n",
        "print(encode(\"hii there\"))\n",
        "print(decode(encode(\"hii there\")))"
      ]
    },
    {
      "cell_type": "code",
      "execution_count": 110,
      "metadata": {
        "colab": {
          "base_uri": "https://localhost:8080/"
        },
        "id": "TmhgBPN7f6xj",
        "outputId": "ccee2b98-521e-4aea-8518-21b0fdbbe64a"
      },
      "outputs": [
        {
          "output_type": "stream",
          "name": "stdout",
          "text": [
            "torch.Size([1115394]) torch.int64\n",
            "tensor([18, 47, 56, 57, 58,  1, 15, 47, 58, 47, 64, 43, 52, 10,  0, 14, 43, 44,\n",
            "        53, 56, 43,  1, 61, 43,  1, 54, 56, 53, 41, 43, 43, 42,  1, 39, 52, 63,\n",
            "         1, 44, 59, 56, 58, 46, 43, 56,  6,  1, 46, 43, 39, 56,  1, 51, 43,  1,\n",
            "        57, 54, 43, 39, 49,  8,  0,  0, 13, 50, 50, 10,  0, 31, 54, 43, 39, 49,\n",
            "         6,  1, 57, 54, 43, 39, 49,  8,  0,  0, 18, 47, 56, 57, 58,  1, 15, 47,\n",
            "        58, 47, 64, 43, 52, 10,  0, 37, 53, 59,  1, 39, 56, 43,  1, 39, 50, 50,\n",
            "         1, 56, 43, 57, 53, 50, 60, 43, 42,  1, 56, 39, 58, 46, 43, 56,  1, 58,\n",
            "        53,  1, 42, 47, 43,  1, 58, 46, 39, 52,  1, 58, 53,  1, 44, 39, 51, 47,\n",
            "        57, 46, 12,  0,  0, 13, 50, 50, 10,  0, 30, 43, 57, 53, 50, 60, 43, 42,\n",
            "         8,  1, 56, 43, 57, 53, 50, 60, 43, 42,  8,  0,  0, 18, 47, 56, 57, 58,\n",
            "         1, 15, 47, 58, 47, 64, 43, 52, 10,  0, 18, 47, 56, 57, 58,  6,  1, 63,\n",
            "        53, 59,  1, 49, 52, 53, 61,  1, 15, 39, 47, 59, 57,  1, 25, 39, 56, 41,\n",
            "        47, 59, 57,  1, 47, 57,  1, 41, 46, 47, 43, 44,  1, 43, 52, 43, 51, 63,\n",
            "         1, 58, 53,  1, 58, 46, 43,  1, 54, 43, 53, 54, 50, 43,  8,  0,  0, 13,\n",
            "        50, 50, 10,  0, 35, 43,  1, 49, 52, 53, 61,  5, 58,  6,  1, 61, 43,  1,\n",
            "        49, 52, 53, 61,  5, 58,  8,  0,  0, 18, 47, 56, 57, 58,  1, 15, 47, 58,\n",
            "        47, 64, 43, 52, 10,  0, 24, 43, 58,  1, 59, 57,  1, 49, 47, 50, 50,  1,\n",
            "        46, 47, 51,  6,  1, 39, 52, 42,  1, 61, 43,  5, 50, 50,  1, 46, 39, 60,\n",
            "        43,  1, 41, 53, 56, 52,  1, 39, 58,  1, 53, 59, 56,  1, 53, 61, 52,  1,\n",
            "        54, 56, 47, 41, 43,  8,  0, 21, 57,  5, 58,  1, 39,  1, 60, 43, 56, 42,\n",
            "        47, 41, 58, 12,  0,  0, 13, 50, 50, 10,  0, 26, 53,  1, 51, 53, 56, 43,\n",
            "         1, 58, 39, 50, 49, 47, 52, 45,  1, 53, 52,  5, 58, 11,  1, 50, 43, 58,\n",
            "         1, 47, 58,  1, 40, 43,  1, 42, 53, 52, 43, 10,  1, 39, 61, 39, 63,  6,\n",
            "         1, 39, 61, 39, 63,  2,  0,  0, 31, 43, 41, 53, 52, 42,  1, 15, 47, 58,\n",
            "        47, 64, 43, 52, 10,  0, 27, 52, 43,  1, 61, 53, 56, 42,  6,  1, 45, 53,\n",
            "        53, 42,  1, 41, 47, 58, 47, 64, 43, 52, 57,  8,  0,  0, 18, 47, 56, 57,\n",
            "        58,  1, 15, 47, 58, 47, 64, 43, 52, 10,  0, 35, 43,  1, 39, 56, 43,  1,\n",
            "        39, 41, 41, 53, 59, 52, 58, 43, 42,  1, 54, 53, 53, 56,  1, 41, 47, 58,\n",
            "        47, 64, 43, 52, 57,  6,  1, 58, 46, 43,  1, 54, 39, 58, 56, 47, 41, 47,\n",
            "        39, 52, 57,  1, 45, 53, 53, 42,  8,  0, 35, 46, 39, 58,  1, 39, 59, 58,\n",
            "        46, 53, 56, 47, 58, 63,  1, 57, 59, 56, 44, 43, 47, 58, 57,  1, 53, 52,\n",
            "         1, 61, 53, 59, 50, 42,  1, 56, 43, 50, 47, 43, 60, 43,  1, 59, 57, 10,\n",
            "         1, 47, 44,  1, 58, 46, 43, 63,  0, 61, 53, 59, 50, 42,  1, 63, 47, 43,\n",
            "        50, 42,  1, 59, 57,  1, 40, 59, 58,  1, 58, 46, 43,  1, 57, 59, 54, 43,\n",
            "        56, 44, 50, 59, 47, 58, 63,  6,  1, 61, 46, 47, 50, 43,  1, 47, 58,  1,\n",
            "        61, 43, 56, 43,  0, 61, 46, 53, 50, 43, 57, 53, 51, 43,  6,  1, 61, 43,\n",
            "         1, 51, 47, 45, 46, 58,  1, 45, 59, 43, 57, 57,  1, 58, 46, 43, 63,  1,\n",
            "        56, 43, 50, 47, 43, 60, 43, 42,  1, 59, 57,  1, 46, 59, 51, 39, 52, 43,\n",
            "        50, 63, 11,  0, 40, 59, 58,  1, 58, 46, 43, 63,  1, 58, 46, 47, 52, 49,\n",
            "         1, 61, 43,  1, 39, 56, 43,  1, 58, 53, 53,  1, 42, 43, 39, 56, 10,  1,\n",
            "        58, 46, 43,  1, 50, 43, 39, 52, 52, 43, 57, 57,  1, 58, 46, 39, 58,  0,\n",
            "        39, 44, 44, 50, 47, 41, 58, 57,  1, 59, 57,  6,  1, 58, 46, 43,  1, 53,\n",
            "        40, 48, 43, 41, 58,  1, 53, 44,  1, 53, 59, 56,  1, 51, 47, 57, 43, 56,\n",
            "        63,  6,  1, 47, 57,  1, 39, 57,  1, 39, 52,  0, 47, 52, 60, 43, 52, 58,\n",
            "        53, 56, 63,  1, 58, 53,  1, 54, 39, 56, 58, 47, 41, 59, 50, 39, 56, 47,\n",
            "        57, 43,  1, 58, 46, 43, 47, 56,  1, 39, 40, 59, 52, 42, 39, 52, 41, 43,\n",
            "        11,  1, 53, 59, 56,  0, 57, 59, 44, 44, 43, 56, 39, 52, 41, 43,  1, 47,\n",
            "        57,  1, 39,  1, 45, 39, 47, 52,  1, 58, 53,  1, 58, 46, 43, 51,  1, 24,\n",
            "        43, 58,  1, 59, 57,  1, 56, 43, 60, 43, 52, 45, 43,  1, 58, 46, 47, 57,\n",
            "         1, 61, 47, 58, 46,  0, 53, 59, 56,  1, 54, 47, 49, 43, 57,  6,  1, 43,\n",
            "        56, 43,  1, 61, 43,  1, 40, 43, 41, 53, 51, 43,  1, 56, 39, 49, 43, 57,\n",
            "        10,  1, 44, 53, 56,  1, 58, 46, 43,  1, 45, 53, 42, 57,  1, 49, 52, 53,\n",
            "        61,  1, 21,  0, 57, 54, 43, 39, 49,  1, 58, 46, 47, 57,  1, 47, 52,  1,\n",
            "        46, 59, 52, 45, 43, 56,  1, 44, 53, 56,  1, 40, 56, 43, 39, 42,  6,  1,\n",
            "        52, 53, 58,  1, 47, 52,  1, 58, 46, 47, 56, 57, 58,  1, 44, 53, 56,  1,\n",
            "        56, 43, 60, 43, 52, 45, 43,  8,  0,  0])\n"
          ]
        }
      ],
      "source": [
        "import torch\n",
        "data = torch.tensor(encode(text), dtype=torch.long)\n",
        "print(data.shape, data.dtype)\n",
        "print(data[:1000])"
      ]
    },
    {
      "cell_type": "code",
      "execution_count": 111,
      "metadata": {
        "id": "PgUXhVtUgptd"
      },
      "outputs": [],
      "source": [
        "n = int(0.9 * len(data))\n",
        "train_data = data[:n]\n",
        "valid_data = data[n:]"
      ]
    },
    {
      "cell_type": "code",
      "execution_count": 112,
      "metadata": {
        "colab": {
          "base_uri": "https://localhost:8080/"
        },
        "id": "P6581gFPhhJN",
        "outputId": "f12af0f0-5853-443a-93c4-7da833f71c8b"
      },
      "outputs": [
        {
          "output_type": "execute_result",
          "data": {
            "text/plain": [
              "tensor([18, 47, 56, 57, 58,  1, 15, 47, 58])"
            ]
          },
          "metadata": {},
          "execution_count": 112
        }
      ],
      "source": [
        "block_size = 8\n",
        "train_data[:block_size+1]"
      ]
    },
    {
      "cell_type": "code",
      "execution_count": 113,
      "metadata": {
        "colab": {
          "base_uri": "https://localhost:8080/"
        },
        "id": "dBHL5NiQhznJ",
        "outputId": "aa2a795b-e43b-4330-adf8-af270035fb25"
      },
      "outputs": [
        {
          "output_type": "stream",
          "name": "stdout",
          "text": [
            "when context is tensor([18]), target is 47\n",
            "when context is tensor([18, 47]), target is 56\n",
            "when context is tensor([18, 47, 56]), target is 57\n",
            "when context is tensor([18, 47, 56, 57]), target is 58\n",
            "when context is tensor([18, 47, 56, 57, 58]), target is 1\n",
            "when context is tensor([18, 47, 56, 57, 58,  1]), target is 15\n",
            "when context is tensor([18, 47, 56, 57, 58,  1, 15]), target is 47\n",
            "when context is tensor([18, 47, 56, 57, 58,  1, 15, 47]), target is 58\n"
          ]
        }
      ],
      "source": [
        "x = train_data[:block_size]\n",
        "y = train_data[1:block_size+1]\n",
        "\n",
        "for i in range(block_size):\n",
        "    context = x[:i+1]\n",
        "    target = y[i]\n",
        "    print(f\"when context is {context}, target is {target}\")"
      ]
    },
    {
      "cell_type": "code",
      "execution_count": 114,
      "metadata": {
        "colab": {
          "base_uri": "https://localhost:8080/"
        },
        "id": "M3YGZh4vk1bh",
        "outputId": "c4f55617-da35-4dc6-9c80-241236c5b622"
      },
      "outputs": [
        {
          "output_type": "stream",
          "name": "stdout",
          "text": [
            "inputs:\n",
            "torch.Size([4, 8])\n",
            "tensor([[24, 43, 58,  5, 57,  1, 46, 43],\n",
            "        [44, 53, 56,  1, 58, 46, 39, 58],\n",
            "        [52, 58,  1, 58, 46, 39, 58,  1],\n",
            "        [25, 17, 27, 10,  0, 21,  1, 54]])\n",
            "targets:\n",
            "torch.Size([4, 8])\n",
            "tensor([[43, 58,  5, 57,  1, 46, 43, 39],\n",
            "        [53, 56,  1, 58, 46, 39, 58,  1],\n",
            "        [58,  1, 58, 46, 39, 58,  1, 46],\n",
            "        [17, 27, 10,  0, 21,  1, 54, 39]])\n"
          ]
        }
      ],
      "source": [
        "torch.manual_seed(1337)\n",
        "batch_size = 4\n",
        "block_size = 8\n",
        "\n",
        "def get_batch(split):\n",
        "    data = train_data if split == 'train' else valid_data\n",
        "    ix = torch.randint(len(data) - block_size, (batch_size,))\n",
        "\n",
        "    x = torch.stack([data[i:i+block_size] for i in ix])\n",
        "    y = torch.stack([data[i+1: i+block_size+1] for i in ix])\n",
        "    return x, y\n",
        "\n",
        "# print(get_batch('train'))\n",
        "xb, yb = get_batch('train')\n",
        "print('inputs:')\n",
        "print(xb.shape)\n",
        "print(xb)\n",
        "print('targets:')\n",
        "print(yb.shape)\n",
        "print(yb)"
      ]
    },
    {
      "cell_type": "code",
      "execution_count": 115,
      "metadata": {
        "colab": {
          "base_uri": "https://localhost:8080/"
        },
        "id": "UaRE6r7JpaTM",
        "outputId": "be0fcdc4-fa1a-48ed-dfc6-08a695ba21a6"
      },
      "outputs": [
        {
          "output_type": "stream",
          "name": "stdout",
          "text": [
            "when context is tensor([24]), target is 43\n",
            "when context is tensor([24, 43]), target is 58\n",
            "when context is tensor([24, 43, 58]), target is 5\n",
            "when context is tensor([24, 43, 58,  5]), target is 57\n",
            "when context is tensor([24, 43, 58,  5, 57]), target is 1\n",
            "when context is tensor([24, 43, 58,  5, 57,  1]), target is 46\n",
            "when context is tensor([24, 43, 58,  5, 57,  1, 46]), target is 43\n",
            "when context is tensor([24, 43, 58,  5, 57,  1, 46, 43]), target is 39\n",
            "when context is tensor([44]), target is 53\n",
            "when context is tensor([44, 53]), target is 56\n",
            "when context is tensor([44, 53, 56]), target is 1\n",
            "when context is tensor([44, 53, 56,  1]), target is 58\n",
            "when context is tensor([44, 53, 56,  1, 58]), target is 46\n",
            "when context is tensor([44, 53, 56,  1, 58, 46]), target is 39\n",
            "when context is tensor([44, 53, 56,  1, 58, 46, 39]), target is 58\n",
            "when context is tensor([44, 53, 56,  1, 58, 46, 39, 58]), target is 1\n",
            "when context is tensor([52]), target is 58\n",
            "when context is tensor([52, 58]), target is 1\n",
            "when context is tensor([52, 58,  1]), target is 58\n",
            "when context is tensor([52, 58,  1, 58]), target is 46\n",
            "when context is tensor([52, 58,  1, 58, 46]), target is 39\n",
            "when context is tensor([52, 58,  1, 58, 46, 39]), target is 58\n",
            "when context is tensor([52, 58,  1, 58, 46, 39, 58]), target is 1\n",
            "when context is tensor([52, 58,  1, 58, 46, 39, 58,  1]), target is 46\n",
            "when context is tensor([25]), target is 17\n",
            "when context is tensor([25, 17]), target is 27\n",
            "when context is tensor([25, 17, 27]), target is 10\n",
            "when context is tensor([25, 17, 27, 10]), target is 0\n",
            "when context is tensor([25, 17, 27, 10,  0]), target is 21\n",
            "when context is tensor([25, 17, 27, 10,  0, 21]), target is 1\n",
            "when context is tensor([25, 17, 27, 10,  0, 21,  1]), target is 54\n",
            "when context is tensor([25, 17, 27, 10,  0, 21,  1, 54]), target is 39\n"
          ]
        }
      ],
      "source": [
        "for b in range(batch_size):\n",
        "    for t in range(block_size):\n",
        "        context = xb[b, :t+1]\n",
        "        target = yb[b, t]\n",
        "        print(f'when context is {context}, target is {target}')"
      ]
    },
    {
      "cell_type": "code",
      "execution_count": 116,
      "metadata": {
        "id": "cQHyc87uqAFQ"
      },
      "outputs": [],
      "source": [
        "import torch\n",
        "import torch.nn as nn\n",
        "from torch.nn import functional as F\n",
        "torch.manual_seed(1337)\n",
        "\n",
        "class BigramLanguageModel(nn.Module):\n",
        "\n",
        "    def __init__(self, vocab_size):\n",
        "        super().__init__()\n",
        "        # 这里是有讲究的，这个embedding就是通过当前词预测下一个词，这是bigram吗？怎么感觉是unigram\n",
        "        # 没问题，就是bigram。uniqgram就是每个词的出现只与它自己有关，bigram是每个词的出现与它的前一个有关\n",
        "        self.token_embedding_table = nn.Embedding(vocab_size, vocab_size)\n",
        "\n",
        "    def forward(self, idx, targets=None):\n",
        "        logits = self.token_embedding_table(idx)\n",
        "\n",
        "        if targets is None:\n",
        "            loss = None\n",
        "        else:\n",
        "            B, T, C = logits.shape\n",
        "            logits = logits.view(B*T, C)\n",
        "            targets = targets.view(B*T)\n",
        "            loss = F.cross_entropy(logits, targets)\n",
        "\n",
        "        return logits, loss\n",
        "\n",
        "    def generate(self, idx, max_new_tokens):\n",
        "        for _ in range(max_new_tokens):\n",
        "            logits, loss = self(idx)\n",
        "            logits = logits[:, -1, :]\n",
        "            probs = F.softmax(logits, dim=-1)\n",
        "            idx_next = torch.multinomial(probs, num_samples=1)\n",
        "            idx = torch.cat((idx, idx_next), dim=1)\n",
        "\n",
        "        return idx"
      ]
    },
    {
      "cell_type": "code",
      "execution_count": 117,
      "metadata": {
        "colab": {
          "base_uri": "https://localhost:8080/"
        },
        "id": "E4XwzL8uuAKp",
        "outputId": "eaccfbe5-6682-4740-b867-fd82659c0f4b"
      },
      "outputs": [
        {
          "output_type": "stream",
          "name": "stdout",
          "text": [
            "torch.Size([32, 65])\n",
            "tensor(4.8786, grad_fn=<NllLossBackward0>)\n",
            "\n",
            "Sr?qP-QWktXoL&jLDJgOLVz'RIoDqHdhsV&vLLxatjscMpwLERSPyao.qfzs$Ys$zF-w,;eEkzxjgCKFChs!iWW.ObzDnxA Ms$3\n"
          ]
        }
      ],
      "source": [
        "m = BigramLanguageModel(vocab_size)\n",
        "logits, loss = m(xb, yb)\n",
        "print(logits.shape)\n",
        "print(loss)\n",
        "\n",
        "print(decode(m.generate(idx = torch.zeros((1, 1), dtype=torch.long), max_new_tokens=100)[0].tolist()))"
      ]
    },
    {
      "cell_type": "code",
      "execution_count": 118,
      "metadata": {
        "id": "E4Quc7QXnNMl"
      },
      "outputs": [],
      "source": [
        "# create a PyTorch optimizer\n",
        "optimizer = torch.optim.AdamW(m.parameters(), lr=1e-3)"
      ]
    },
    {
      "cell_type": "code",
      "execution_count": 121,
      "metadata": {
        "colab": {
          "base_uri": "https://localhost:8080/"
        },
        "id": "2xSxhHoROy5f",
        "outputId": "e5508c2f-1086-4b18-b677-577c73cb70ca"
      },
      "outputs": [
        {
          "output_type": "stream",
          "name": "stdout",
          "text": [
            "train loss: 2.4803712368011475, valid loss: 2.5099740028381348\n",
            "train loss: 2.4044744968414307, valid loss: 2.484287738800049\n",
            "train loss: 2.5052285194396973, valid loss: 2.57289457321167\n",
            "train loss: 2.541252851486206, valid loss: 2.4408442974090576\n",
            "train loss: 2.526195526123047, valid loss: 2.264681577682495\n",
            "train loss: 2.4003970623016357, valid loss: 2.5440609455108643\n",
            "train loss: 2.4098591804504395, valid loss: 2.42936635017395\n",
            "train loss: 2.6358678340911865, valid loss: 2.4007363319396973\n",
            "train loss: 2.4541640281677246, valid loss: 2.529359817504883\n",
            "train loss: 2.5697054862976074, valid loss: 2.4798054695129395\n",
            "train loss: 2.471733570098877, valid loss: 2.5871164798736572\n",
            "train loss: 2.3137094974517822, valid loss: 2.5476455688476562\n",
            "train loss: 2.4774723052978516, valid loss: 2.4575088024139404\n",
            "train loss: 2.396744966506958, valid loss: 2.426650285720825\n",
            "train loss: 2.4071946144104004, valid loss: 2.495245933532715\n",
            "train loss: 2.3555610179901123, valid loss: 2.6217129230499268\n",
            "train loss: 2.6187424659729004, valid loss: 2.438554525375366\n",
            "train loss: 2.4737372398376465, valid loss: 2.5108890533447266\n",
            "train loss: 2.4149973392486572, valid loss: 2.4900014400482178\n",
            "train loss: 2.3895514011383057, valid loss: 2.506913423538208\n",
            "train loss: 2.5148637294769287, valid loss: 2.50431489944458\n",
            "train loss: 2.5472962856292725, valid loss: 2.5526909828186035\n",
            "train loss: 2.2702016830444336, valid loss: 2.6065256595611572\n",
            "train loss: 2.502293586730957, valid loss: 2.4850451946258545\n",
            "train loss: 2.4368178844451904, valid loss: 2.535146951675415\n",
            "train loss: 2.457634210586548, valid loss: 2.4968583583831787\n",
            "train loss: 2.5504136085510254, valid loss: 2.503127098083496\n",
            "train loss: 2.4487178325653076, valid loss: 2.4269371032714844\n",
            "train loss: 2.4988479614257812, valid loss: 2.4325525760650635\n",
            "train loss: 2.4603092670440674, valid loss: 2.3979268074035645\n",
            "train loss: 2.4534847736358643, valid loss: 2.33727765083313\n",
            "train loss: 2.386141061782837, valid loss: 2.491227149963379\n",
            "train loss: 2.4328267574310303, valid loss: 2.409137487411499\n",
            "train loss: 2.4467005729675293, valid loss: 2.361818552017212\n",
            "train loss: 2.398925304412842, valid loss: 2.46935772895813\n",
            "train loss: 2.3935747146606445, valid loss: 2.4721179008483887\n",
            "train loss: 2.4708850383758545, valid loss: 2.4902548789978027\n",
            "train loss: 2.476236343383789, valid loss: 2.4323205947875977\n",
            "train loss: 2.3622257709503174, valid loss: 2.42724347114563\n",
            "train loss: 2.500655174255371, valid loss: 2.4179890155792236\n",
            "train loss: 2.3806631565093994, valid loss: 2.523141622543335\n",
            "train loss: 2.428920269012451, valid loss: 2.515134572982788\n",
            "train loss: 2.5026938915252686, valid loss: 2.466174364089966\n",
            "train loss: 2.445382833480835, valid loss: 2.588380813598633\n",
            "train loss: 2.4691786766052246, valid loss: 2.5162606239318848\n",
            "train loss: 2.4577112197875977, valid loss: 2.519629716873169\n",
            "train loss: 2.232638120651245, valid loss: 2.583390235900879\n",
            "train loss: 2.5281991958618164, valid loss: 2.4712460041046143\n",
            "train loss: 2.4145004749298096, valid loss: 2.633556604385376\n",
            "train loss: 2.438213348388672, valid loss: 2.4259891510009766\n",
            "train loss: 2.4453039169311523, valid loss: 2.4443888664245605\n",
            "2.4453039169311523\n"
          ]
        }
      ],
      "source": [
        "batch_size = 32\n",
        "max_iter = 5000\n",
        "\n",
        "for step in range(max_iter): # increase number of steps for good results...\n",
        "\n",
        "    # sample a batch of data\n",
        "    xb, yb = get_batch('train')\n",
        "    # evaluate the loss\n",
        "    logits, loss = m(xb, yb)\n",
        "\n",
        "    if step % 100 == 0 or step == max_iter - 1:\n",
        "        x_val, y_val = get_batch('valid')\n",
        "        logits_val, loss_val = m(x_val, y_val)\n",
        "\n",
        "        print(f'train loss: {loss}, valid loss: {loss_val}')\n",
        "\n",
        "\n",
        "    optimizer.zero_grad(set_to_none=True)\n",
        "    loss.backward()\n",
        "    optimizer.step()\n",
        "\n",
        "# 基本到2.2 就下不去了\n",
        "print(loss.item())\n"
      ]
    },
    {
      "cell_type": "code",
      "execution_count": 122,
      "metadata": {
        "colab": {
          "base_uri": "https://localhost:8080/"
        },
        "id": "LpMJqXjCjU6i",
        "outputId": "8c838e73-9fb0-4bc1-ae61-93256bc78942"
      },
      "outputs": [
        {
          "output_type": "execute_result",
          "data": {
            "text/plain": [
              "tensor([[0]])"
            ]
          },
          "metadata": {},
          "execution_count": 122
        }
      ],
      "source": [
        "torch.zeros(1, 1, dtype=torch.long)"
      ]
    },
    {
      "cell_type": "code",
      "execution_count": 125,
      "metadata": {
        "colab": {
          "base_uri": "https://localhost:8080/"
        },
        "id": "CQYMv0aojmNs",
        "outputId": "7a6b6e65-594c-45a3-8c7b-e57b26bc66bc"
      },
      "outputs": [
        {
          "output_type": "execute_result",
          "data": {
            "text/plain": [
              "tensor([[0]])"
            ]
          },
          "metadata": {},
          "execution_count": 125
        }
      ],
      "source": [
        "# gen_idx = torch.tensor([encode('北国风光')], dtype=torch.long)\n",
        "gen_idx = torch.zeros((1, 1), dtype=torch.long)\n",
        "gen_idx"
      ]
    },
    {
      "cell_type": "code",
      "execution_count": 126,
      "metadata": {
        "colab": {
          "base_uri": "https://localhost:8080/"
        },
        "id": "UC3d8-PoO5mj",
        "outputId": "6c2b20e7-1a37-40bf-89d1-78b7e4e394c0"
      },
      "outputs": [
        {
          "output_type": "stream",
          "name": "stdout",
          "text": [
            "\n",
            "OMusel'shisoape\n",
            "TIfarve or'shery, s winofe thason,\n",
            "Ticoote LLO:\n",
            "Por oum\n",
            "LAnsmere make he trilourinse b mis, ous ois gy\n",
            "TO:\n",
            "Pre y ithod I a; d tan:\n",
            "Wal, y he ol we, thedas uzoghatho hswinedn?\n",
            "For:\n",
            "TUThe t G forarclursserschacomake\n",
            "ABe s sh nd-s byood, ithoue f hit hese, cll po the f citithomin'd HI ase on'difor theprdeth apendimenAnchalat-\n",
            "We ladsanccavoo s: ass.\n",
            "The. condedrul olyomeano u t to meouthar sswinst my the BOldigd's.\n",
            "BRDais ser'thaveeane he l quseeoodrlared ieceicinore  ig\n",
            "\n",
            "ALESe sinc\n"
          ]
        }
      ],
      "source": [
        "print(decode(m.generate(idx = gen_idx, max_new_tokens=500)[0].tolist()))"
      ]
    },
    {
      "cell_type": "markdown",
      "source": [
        "# attention的数学技巧"
      ],
      "metadata": {
        "id": "T7Lsk5R91v2y"
      }
    },
    {
      "cell_type": "code",
      "source": [
        "torch.manual_seed(42)\n",
        "# 下三角矩阵就能做到和左边的词元attention\n",
        "a = torch.tril(torch.ones(3, 3))\n",
        "# 但是这里我们要模拟的不是mask，而是一个K * Q得到的attention权重矩阵，还得归一化\n",
        "a = a / torch.sum(a, 1, keepdim=True)\n",
        "\n",
        "b = torch.randint(0,10,(3,2)).float()\n",
        "\n",
        "c = a @ b\n",
        "print('a=')\n",
        "print(a)\n",
        "print('---')\n",
        "print('b=')\n",
        "print(b)\n",
        "print('c=')\n",
        "print('---')\n",
        "print(c)\n",
        "\n",
        "# c look as the column combination of a\n",
        "# 2.  0. 0  2\n",
        "# 1.  3. 0. 4\n",
        "# 2/3 2  2. 4.6666\n",
        "\n",
        "# 但是这里应该看成 row combination of b\n",
        "# 1.0 * [2., 7.] + 0.0 * [6., 4.] + 0.0 * [6., 5.] 这就是第1个token的BOW表示\n",
        "# 0.5 * [2., 7.] + 0.5 * [6., 4.] + 0.0 * [6., 5.] 这就是第2个token的BOW表示\n",
        "# 0.3 * [2., 7.] + 0.3 * [6., 4.] + 0.3 * [6., 5.] 这就是第3个token的BOW表示\n"
      ],
      "metadata": {
        "colab": {
          "base_uri": "https://localhost:8080/"
        },
        "id": "pCIKXHxu118W",
        "outputId": "394eca96-b348-40af-81c2-7c0a51f5f93e"
      },
      "execution_count": 127,
      "outputs": [
        {
          "output_type": "stream",
          "name": "stdout",
          "text": [
            "a=\n",
            "tensor([[1.0000, 0.0000, 0.0000],\n",
            "        [0.5000, 0.5000, 0.0000],\n",
            "        [0.3333, 0.3333, 0.3333]])\n",
            "---\n",
            "b=\n",
            "tensor([[2., 7.],\n",
            "        [6., 4.],\n",
            "        [6., 5.]])\n",
            "c=\n",
            "---\n",
            "tensor([[2.0000, 7.0000],\n",
            "        [4.0000, 5.5000],\n",
            "        [4.6667, 5.3333]])\n"
          ]
        }
      ]
    },
    {
      "cell_type": "code",
      "source": [
        "torch.manual_seed(1337)\n",
        "B, T, C = 4, 8, 2\n",
        "x = torch.randn(B, T, C)\n",
        "print(x)"
      ],
      "metadata": {
        "colab": {
          "base_uri": "https://localhost:8080/"
        },
        "id": "jO7q8nUBcYAQ",
        "outputId": "169c53a5-8498-466e-d9b6-b877f62a4732"
      },
      "execution_count": 128,
      "outputs": [
        {
          "output_type": "stream",
          "name": "stdout",
          "text": [
            "tensor([[[ 0.1808, -0.0700],\n",
            "         [-0.3596, -0.9152],\n",
            "         [ 0.6258,  0.0255],\n",
            "         [ 0.9545,  0.0643],\n",
            "         [ 0.3612,  1.1679],\n",
            "         [-1.3499, -0.5102],\n",
            "         [ 0.2360, -0.2398],\n",
            "         [-0.9211,  1.5433]],\n",
            "\n",
            "        [[ 1.3488, -0.1396],\n",
            "         [ 0.2858,  0.9651],\n",
            "         [-2.0371,  0.4931],\n",
            "         [ 1.4870,  0.5910],\n",
            "         [ 0.1260, -1.5627],\n",
            "         [-1.1601, -0.3348],\n",
            "         [ 0.4478, -0.8016],\n",
            "         [ 1.5236,  2.5086]],\n",
            "\n",
            "        [[-0.6631, -0.2513],\n",
            "         [ 1.0101,  0.1215],\n",
            "         [ 0.1584,  1.1340],\n",
            "         [-1.1539, -0.2984],\n",
            "         [-0.5075, -0.9239],\n",
            "         [ 0.5467, -1.4948],\n",
            "         [-1.2057,  0.5718],\n",
            "         [-0.5974, -0.6937]],\n",
            "\n",
            "        [[ 1.6455, -0.8030],\n",
            "         [ 1.3514, -0.2759],\n",
            "         [-1.5108,  2.1048],\n",
            "         [ 2.7630, -1.7465],\n",
            "         [ 1.4516, -1.5103],\n",
            "         [ 0.8212, -0.2115],\n",
            "         [ 0.7789,  1.5333],\n",
            "         [ 1.6097, -0.4032]]])\n"
          ]
        }
      ]
    },
    {
      "cell_type": "code",
      "source": [
        "# 先用朴素BOW来表达？\n",
        "# x[b, t] = mean_{i <= t} x[b, i]\n",
        "\n",
        "xbow = torch.zeros(B, T, C)\n",
        "for b in range(B):\n",
        "    for t in range(T):\n",
        "        # 私以为比Andrej老师的变量名要好，因为这里也包含了step t这个token\n",
        "        x_t_tprev = x[b, :t+1] # shape (t, C)\n",
        "        xbow[b, t] = torch.mean(x_t_tprev, 0)\n",
        "\n",
        "print(xbow)"
      ],
      "metadata": {
        "colab": {
          "base_uri": "https://localhost:8080/"
        },
        "id": "GuKWNTK8gIf_",
        "outputId": "5998b214-00ca-45a5-8d10-6a5d333953fd"
      },
      "execution_count": 129,
      "outputs": [
        {
          "output_type": "stream",
          "name": "stdout",
          "text": [
            "tensor([[[ 0.1808, -0.0700],\n",
            "         [-0.0894, -0.4926],\n",
            "         [ 0.1490, -0.3199],\n",
            "         [ 0.3504, -0.2238],\n",
            "         [ 0.3525,  0.0545],\n",
            "         [ 0.0688, -0.0396],\n",
            "         [ 0.0927, -0.0682],\n",
            "         [-0.0341,  0.1332]],\n",
            "\n",
            "        [[ 1.3488, -0.1396],\n",
            "         [ 0.8173,  0.4127],\n",
            "         [-0.1342,  0.4395],\n",
            "         [ 0.2711,  0.4774],\n",
            "         [ 0.2421,  0.0694],\n",
            "         [ 0.0084,  0.0020],\n",
            "         [ 0.0712, -0.1128],\n",
            "         [ 0.2527,  0.2149]],\n",
            "\n",
            "        [[-0.6631, -0.2513],\n",
            "         [ 0.1735, -0.0649],\n",
            "         [ 0.1685,  0.3348],\n",
            "         [-0.1621,  0.1765],\n",
            "         [-0.2312, -0.0436],\n",
            "         [-0.1015, -0.2855],\n",
            "         [-0.2593, -0.1630],\n",
            "         [-0.3015, -0.2293]],\n",
            "\n",
            "        [[ 1.6455, -0.8030],\n",
            "         [ 1.4985, -0.5395],\n",
            "         [ 0.4954,  0.3420],\n",
            "         [ 1.0623, -0.1802],\n",
            "         [ 1.1401, -0.4462],\n",
            "         [ 1.0870, -0.4071],\n",
            "         [ 1.0430, -0.1299],\n",
            "         [ 1.1138, -0.1641]]])\n"
          ]
        }
      ]
    },
    {
      "cell_type": "code",
      "source": [
        "# 再用上面那个tril的矩阵乘法来表示\n",
        "# 为什么用tril？因为不用写for循环，并行度更高\n",
        "\n",
        "wei = torch.tril(torch.ones(T, T))\n",
        "print('wei_tril:')\n",
        "print(wei)\n",
        "\n",
        "\n",
        "# 这里keepdim=True shape是(8, 1)所以除法就是每行除以对应的那一行的1个sum出来的数\n",
        "# keepdim=False, shape是(8, ), 那就是每一行从左到右每个元素都找到对应的去除\n",
        "wei_sum = wei.sum(1, keepdim=True)\n",
        "\n",
        "print('wei_sum:')\n",
        "print(wei_sum)\n",
        "wei = wei / wei_sum\n",
        "\n",
        "\n",
        "print('wei:')\n",
        "print(wei)\n",
        "\n",
        "xbow2 = wei @ x\n",
        "\n",
        "# 发现太小的值，这里[1,5,1] 是 0.0020，会导致allclose判断为False，\n",
        "# 这个问题很有意思，我记得21年跑这个代码没有这个问题，现在出现了。我也运行了一下Andrej的原始notebook也是Fasle\n",
        "# 说明大概率是python和torch的版本升级导致的，可能是seed rand的数字不一样了\n",
        "print('xbow2:')\n",
        "print(xbow2[1][5][1])\n",
        "print(xbow2[1][5][1] - xbow[1][5][1])\n",
        "torch.allclose(xbow[1][5][1], xbow2[1][5][1])"
      ],
      "metadata": {
        "colab": {
          "base_uri": "https://localhost:8080/"
        },
        "id": "6K30_1hzjUhb",
        "outputId": "eebd8411-0c83-439f-be89-7b4baf0575e6"
      },
      "execution_count": 130,
      "outputs": [
        {
          "output_type": "stream",
          "name": "stdout",
          "text": [
            "wei_tril:\n",
            "tensor([[1., 0., 0., 0., 0., 0., 0., 0.],\n",
            "        [1., 1., 0., 0., 0., 0., 0., 0.],\n",
            "        [1., 1., 1., 0., 0., 0., 0., 0.],\n",
            "        [1., 1., 1., 1., 0., 0., 0., 0.],\n",
            "        [1., 1., 1., 1., 1., 0., 0., 0.],\n",
            "        [1., 1., 1., 1., 1., 1., 0., 0.],\n",
            "        [1., 1., 1., 1., 1., 1., 1., 0.],\n",
            "        [1., 1., 1., 1., 1., 1., 1., 1.]])\n",
            "wei_sum:\n",
            "tensor([[1.],\n",
            "        [2.],\n",
            "        [3.],\n",
            "        [4.],\n",
            "        [5.],\n",
            "        [6.],\n",
            "        [7.],\n",
            "        [8.]])\n",
            "wei:\n",
            "tensor([[1.0000, 0.0000, 0.0000, 0.0000, 0.0000, 0.0000, 0.0000, 0.0000],\n",
            "        [0.5000, 0.5000, 0.0000, 0.0000, 0.0000, 0.0000, 0.0000, 0.0000],\n",
            "        [0.3333, 0.3333, 0.3333, 0.0000, 0.0000, 0.0000, 0.0000, 0.0000],\n",
            "        [0.2500, 0.2500, 0.2500, 0.2500, 0.0000, 0.0000, 0.0000, 0.0000],\n",
            "        [0.2000, 0.2000, 0.2000, 0.2000, 0.2000, 0.0000, 0.0000, 0.0000],\n",
            "        [0.1667, 0.1667, 0.1667, 0.1667, 0.1667, 0.1667, 0.0000, 0.0000],\n",
            "        [0.1429, 0.1429, 0.1429, 0.1429, 0.1429, 0.1429, 0.1429, 0.0000],\n",
            "        [0.1250, 0.1250, 0.1250, 0.1250, 0.1250, 0.1250, 0.1250, 0.1250]])\n",
            "xbow2:\n",
            "tensor(0.0020)\n",
            "tensor(    -0.0000)\n"
          ]
        },
        {
          "output_type": "execute_result",
          "data": {
            "text/plain": [
              "False"
            ]
          },
          "metadata": {},
          "execution_count": 130
        }
      ]
    },
    {
      "cell_type": "code",
      "source": [
        "# 用softmax\n",
        "# 为什么要用softmax？后续如果是模型过完一些层，得出来的是logits而不是probs\n",
        "# logits范围(-inf, inf)，而不是像上面都是类似probs的 1/n 范围[0.0, 1.0]\n",
        "# 过一下softmax，范围就到[0.0, 1.0]了\n",
        "\n",
        "wei = torch.tril(torch.ones(T, T))\n",
        "wei = torch.where(wei == 0.0, float('-inf'), wei)\n",
        "\n",
        "\"\"\"\n",
        "在PyTorch中，`F.softmax` 函数用于沿着指定的维度对输入张量进行softmax操作。对于张量 `wei`，其形状为 `(T, T)`，让我们分析一下 `F.softmax(wei, 1)` 和 `F.softmax(wei, -1)` 的含义：\n",
        "\n",
        "1. **`F.softmax(wei, 1)`**:\n",
        "   - 这里的 `1` 表示在第1个维度（即列方向）上进行softmax操作。对于每一行，`F.softmax` 会计算该行内的softmax值。\n",
        "\n",
        "2. **`F.softmax(wei, -1)`**:\n",
        "   - 这里的 `-1` 表示在最后一个维度上进行softmax操作。对于二维张量 `(T, T)` 来说，最后一个维度也是列方向（即维度1）。因此，`F.softmax(wei, -1)` 实际上与 `F.softmax(wei, 1)` 是等价的。\n",
        "\n",
        "总结来说，`F.softmax(wei, 1)` 和 `F.softmax(wei, -1)` 在形状为 `(T, T)` 的张量上执行时，是相同的操作，因为它们都在列方向上计算softmax。\n",
        "\"\"\"\n",
        "wei = F.softmax(wei, 1)\n",
        "print('wei:')\n",
        "print(wei)\n",
        "\n",
        "xbow3 = wei @ x\n",
        "\n",
        "# xbow2和xbow3是一样的\n",
        "# 因为xbow2和xbow3都是先除再加，xbow的mean是先加再除\n",
        "torch.allclose(xbow2, xbow3)"
      ],
      "metadata": {
        "id": "55UHB8xEqJEK",
        "colab": {
          "base_uri": "https://localhost:8080/"
        },
        "outputId": "0a470392-5e75-476a-b269-f4f6e1e6fd66"
      },
      "execution_count": 131,
      "outputs": [
        {
          "output_type": "stream",
          "name": "stdout",
          "text": [
            "wei:\n",
            "tensor([[1.0000, 0.0000, 0.0000, 0.0000, 0.0000, 0.0000, 0.0000, 0.0000],\n",
            "        [0.5000, 0.5000, 0.0000, 0.0000, 0.0000, 0.0000, 0.0000, 0.0000],\n",
            "        [0.3333, 0.3333, 0.3333, 0.0000, 0.0000, 0.0000, 0.0000, 0.0000],\n",
            "        [0.2500, 0.2500, 0.2500, 0.2500, 0.0000, 0.0000, 0.0000, 0.0000],\n",
            "        [0.2000, 0.2000, 0.2000, 0.2000, 0.2000, 0.0000, 0.0000, 0.0000],\n",
            "        [0.1667, 0.1667, 0.1667, 0.1667, 0.1667, 0.1667, 0.0000, 0.0000],\n",
            "        [0.1429, 0.1429, 0.1429, 0.1429, 0.1429, 0.1429, 0.1429, 0.0000],\n",
            "        [0.1250, 0.1250, 0.1250, 0.1250, 0.1250, 0.1250, 0.1250, 0.1250]])\n"
          ]
        },
        {
          "output_type": "execute_result",
          "data": {
            "text/plain": [
              "True"
            ]
          },
          "metadata": {},
          "execution_count": 131
        }
      ]
    },
    {
      "cell_type": "code",
      "source": [
        "# 终于来了！自注意力self-attention\n",
        "torch.manual_seed(1337)\n",
        "\n",
        "B, T, C = 2, 16, 8\n",
        "\n",
        "x = torch.randn(B, T, C)\n",
        "\n",
        "header_size = 4\n",
        "\n",
        "key = nn.Linear(C, header_size)\n",
        "query = nn.Linear(C, header_size)\n",
        "value = nn.Linear(C, header_size)\n",
        "\n",
        "# k,q,v shape (B, T, head_size)\n",
        "k = key(x)\n",
        "q = query(x)\n",
        "v = value(x)\n",
        "\n",
        "tril = torch.tril(torch.ones(T, T))\n",
        "wei = q @ k.transpose(1, 2) # shape (B, T, T)\n",
        "\n",
        "# 这里wei和tril的shape不一样，看来是能自动boardcast的\n",
        "wei = wei.masked_fill(tril == 0, float('-inf'))\n",
        "wei = F.softmax(wei, -1)\n",
        "\n",
        "x_attent_left = wei @ v\n",
        "\n",
        "x_attent_left.shape # shape (B, T, header_size)"
      ],
      "metadata": {
        "colab": {
          "base_uri": "https://localhost:8080/"
        },
        "id": "FVdYLk_4eDFv",
        "outputId": "b4de54a8-e2b9-413e-ff79-20afd9eba74c"
      },
      "execution_count": 132,
      "outputs": [
        {
          "output_type": "execute_result",
          "data": {
            "text/plain": [
              "torch.Size([2, 16, 4])"
            ]
          },
          "metadata": {},
          "execution_count": 132
        }
      ]
    },
    {
      "cell_type": "markdown",
      "source": [
        "注意：\n",
        "- 注意力是一种**交流机制**。可以看成是有向图中的节点互相关注，并将所有指向它们的节点的信息加权汇总，权重取决于数据。\n",
        "- 没有空间概念。注意力只是作用于一组向量。这就是我们需要对标记进行位置编码的原因。\n",
        "- 在 \"编码器 \"注意力区块中，只需删除用下三角矩阵进行屏蔽的一行，就可以让所有标记进行交流。这里的区块被称为 \"解码器 \"注意区块，因为它具有下三角形掩码，通常用于自回归设置，如语言建模。\n",
        "- \"自注意力\"只是指键和值与查询的来源相同。在 \"交叉注意力\"中，查询仍由 x 生成，但键和值来自其他外部来源（如编码器模块）。\n",
        "- \"缩放 \"注意力额外将 wei 除以 1/sqrt（head_size）。这样，当输入 Q、K 为单位方差时，wei 也将是单位方差，Softmax 将保持分散，不会过于饱和。说明如下"
      ],
      "metadata": {
        "id": "SSe2mDWXFT5t"
      }
    },
    {
      "cell_type": "code",
      "source": [
        "q = torch.randn(8, 4) # shape (T, head_size)\n",
        "print(f'q var: {q.var()}')\n",
        "\n",
        "k = torch.randn(8, 4) # shape (T, head_size)\n",
        "print(f'k var: {k.var()}')\n",
        "\n",
        "wei = q @ k.transpose(0, 1) # shape (T, T)\n",
        "print(f'wei var: {wei.var()}')"
      ],
      "metadata": {
        "colab": {
          "base_uri": "https://localhost:8080/"
        },
        "id": "6crEe9MUGsSq",
        "outputId": "5e21b398-4beb-42fc-855b-26cd7039a213"
      },
      "execution_count": 133,
      "outputs": [
        {
          "output_type": "stream",
          "name": "stdout",
          "text": [
            "q var: 0.55227130651474\n",
            "k var: 1.0105643272399902\n",
            "wei var: 2.630138874053955\n"
          ]
        }
      ]
    },
    {
      "cell_type": "code",
      "source": [
        "wei_norm = wei / (4 ** 1/2) # head_size is 4\n",
        "\n",
        "print(f'wei_norm vars: {wei_norm.var()}')"
      ],
      "metadata": {
        "colab": {
          "base_uri": "https://localhost:8080/"
        },
        "id": "ny4e6uSrH4IB",
        "outputId": "b4de4880-2385-4f4e-b805-2806669532ae"
      },
      "execution_count": 134,
      "outputs": [
        {
          "output_type": "stream",
          "name": "stdout",
          "text": [
            "wei_norm vars: 0.6575347185134888\n"
          ]
        }
      ]
    },
    {
      "cell_type": "code",
      "source": [
        "# 方差大了过完softmax会变得过于峰值(peak)\n",
        "\n",
        "# 设置打印选项，不使用科学计数法\n",
        "torch.set_printoptions(sci_mode=False)\n",
        "\n",
        "wei_probs = F.softmax(wei, dim=1)\n",
        "print(f'wei_probs: {wei_probs}') # 可以看到[3, 3] 不用科学计数法都是0.0000了，这样整个向量会趋向于one-hot\n",
        "# one-hot有什么不好呢？个人的想法是这里wei是每个token和其他token的关系权重，两两之间总归是有一些关系的\n",
        "\n",
        "wei_norm_probs = F.softmax(wei_norm, dim=1)\n",
        "print(f'wei_norm_probs: {wei_norm_probs}')"
      ],
      "metadata": {
        "colab": {
          "base_uri": "https://localhost:8080/"
        },
        "id": "Z0bQUBvKIZoS",
        "outputId": "260eefc3-f36d-4009-bc53-b33e44f1863d"
      },
      "execution_count": 135,
      "outputs": [
        {
          "output_type": "stream",
          "name": "stdout",
          "text": [
            "wei_probs: tensor([[    0.0127,     0.1197,     0.0321,     0.2054,     0.0137,     0.5546,\n",
            "             0.0208,     0.0410],\n",
            "        [    0.0285,     0.0135,     0.0004,     0.1478,     0.0122,     0.0009,\n",
            "             0.1557,     0.6410],\n",
            "        [    0.0442,     0.0271,     0.0717,     0.0142,     0.6493,     0.0171,\n",
            "             0.1586,     0.0178],\n",
            "        [    0.0960,     0.0813,     0.5371,     0.0106,     0.0814,     0.1663,\n",
            "             0.0118,     0.0155],\n",
            "        [    0.0609,     0.0431,     0.0761,     0.1198,     0.1977,     0.0493,\n",
            "             0.4034,     0.0498],\n",
            "        [    0.3244,     0.0644,     0.2650,     0.0174,     0.1623,     0.0263,\n",
            "             0.0584,     0.0818],\n",
            "        [    0.0924,     0.0186,     0.0485,     0.0088,     0.6168,     0.0040,\n",
            "             0.1757,     0.0353],\n",
            "        [    0.3909,     0.0708,     0.1346,     0.0087,     0.2104,     0.0115,\n",
            "             0.0322,     0.1409]])\n",
            "wei_norm_probs: tensor([[0.0491, 0.1505, 0.0779, 0.1971, 0.0508, 0.3239, 0.0627, 0.0880],\n",
            "        [0.0835, 0.0575, 0.0093, 0.1900, 0.0546, 0.0146, 0.1950, 0.3956],\n",
            "        [0.0943, 0.0738, 0.1201, 0.0535, 0.3613, 0.0586, 0.1786, 0.0598],\n",
            "        [0.1315, 0.1210, 0.3109, 0.0437, 0.1210, 0.1730, 0.0461, 0.0529],\n",
            "        [0.0949, 0.0798, 0.1061, 0.1331, 0.1709, 0.0853, 0.2442, 0.0858],\n",
            "        [0.2223, 0.0990, 0.2009, 0.0514, 0.1572, 0.0633, 0.0943, 0.1116],\n",
            "        [0.1376, 0.0618, 0.0996, 0.0425, 0.3554, 0.0285, 0.1897, 0.0850],\n",
            "        [0.2529, 0.1076, 0.1484, 0.0376, 0.1856, 0.0434, 0.0726, 0.1518]])\n"
          ]
        }
      ]
    },
    {
      "cell_type": "markdown",
      "source": [
        "# 完整的实现GPT"
      ],
      "metadata": {
        "id": "ifRteA59NNct"
      }
    },
    {
      "cell_type": "code",
      "source": [
        "class GPTConfig:\n",
        "    def __init__(self, config):\n",
        "        self.B = config['B']\n",
        "        self.T = config['T']\n",
        "        self.C = config['C']\n",
        "\n",
        "        self.vocab_size = config['vocab_size']\n",
        "\n",
        "        self.header_size = config['header_size']\n",
        "        self.headers_num = config['headers_num'] # 要不先不实现多头，跑毛爷爷的诗，单头可能也可以了\n",
        "\n",
        "        self.blocks_num = config['blocks_num']\n",
        "        self.ffn_size = config['ffn_size']\n",
        "\n",
        "class Block(nn.Module):\n",
        "    def __init__(self, config):\n",
        "        super().__init__()\n",
        "        self.config = config\n",
        "\n",
        "        self.key = nn.Linear(config.C, config.header_size * config.headers_num)\n",
        "        self.query = nn.Linear(config.C, config.header_size * config.headers_num)\n",
        "        self.value = nn.Linear(config.C, config.header_size * config.headers_num)\n",
        "        self.attn_fc = nn.Linear(config.header_size * config.headers_num, config.C)\n",
        "        # self.feedforward = nn.Linear(config.header, config.ffn_size)\n",
        "        # self.feedforward = nn.Linear(config.header, config.C) # ffn_size应该就是C，不然过下一个block的时候dim和过完embd的不一样了\n",
        "        # 这样应该能学习更多的参数，也不会导致过下一个block的dim不一样\n",
        "        # 但是我没明白的是直接这么提升维度，信息从何而来呢？这就有点像是线性代数里面平行的vector\n",
        "        self.ff1 = nn.Linear(config.C, config.ffn_size)\n",
        "        self.ff2 = nn.Linear(config.ffn_size, config.C)\n",
        "\n",
        "    def split_headers(self, x, batch_size):\n",
        "        \"\"\"Split the last dimension into (num_heads, head_dim) and transpose the result.\"\"\"\n",
        "        x = x.view(batch_size, config.T, self.config.headers_num, self.config.header_size)\n",
        "\n",
        "        return x.transpose(1, 2) # shape (B, headers_num, T, header_size) 这里需要thinking一下why\n",
        "\n",
        "    def combine_headers(self, x, batch_size):\n",
        "        \"\"\"\n",
        "            Combine the heads and restore the original last dimension.\n",
        "            x.shape (B, headers_num, T, header_size)\n",
        "        \"\"\"\n",
        "        x = x.transpose(1, 2).contiguous()\n",
        "        # 这里view中的-1，表示自动计算。其实可以直接用T\n",
        "        return x.view(batch_size, self.config.T, self.config.headers_num * self.config.header_size)\n",
        "\n",
        "    def attn(self, x):\n",
        "        \"\"\"\n",
        "        x.shape (B, T, C)\n",
        "        \"\"\"\n",
        "        config = self.config\n",
        "        B, T, C = x.shape\n",
        "\n",
        "        # k, q, v shape (B, headers_num, T, header_size)\n",
        "        k = self.split_headers(self.key(x), B)\n",
        "        q = self.split_headers(self.query(x), B)\n",
        "        v = self.split_headers(self.value(x), B)\n",
        "\n",
        "        tril = torch.tril(torch.ones(config.T, config.T))\n",
        "        wei = q @ k.transpose(-2, -1) # 这个时候用负数的兼容性就体现了\n",
        "        wei = wei.masked_fill(tril == 0, float('-inf'))\n",
        "        wei = wei / (config.header_size ** 0.5)\n",
        "        wei = F.softmax(wei, dim=-1)\n",
        "        # wei.shape (B, headers_num, T, T)\n",
        "\n",
        "        out = wei @ v # out.shape (B, headers_num, T, header_size)\n",
        "        out = self.combine_headers(out, B)  # out.shape(B, T, config.header_size * config.headers_num)\n",
        "        x = self.attn_fc(out)\n",
        "\n",
        "        return x\n",
        "\n",
        "    def ffn(self, x):\n",
        "        x = self.ff1(x)\n",
        "        x = F.gelu(x, approximate='tanh')\n",
        "        out2 = self.ff2(x)\n",
        "        return out2\n",
        "\n",
        "    def layernorm(self, x, epsilon=1e-5):\n",
        "        mean = torch.mean(x, axis=-1, keepdims=True)\n",
        "        std = torch.sqrt(x.var(axis=-1, keepdims=True) + epsilon)\n",
        "        norm_x = (x - mean) / std\n",
        "        return norm_x\n",
        "\n",
        "    def forward(self, x):\n",
        "        # 应该还有一个norm，为什么要norm有点忘了，先不实现\n",
        "        x = x + self.attn(self.layernorm(x))\n",
        "        x = x + self.ffn(self.layernorm(x))\n",
        "        return x\n",
        "\n",
        "\n",
        "\n",
        "class GPT(nn.Module):\n",
        "    def __init__(self, config):\n",
        "        super().__init__()\n",
        "        self.config = config\n",
        "        self.wte = nn.Embedding(config.vocab_size, config.C)\n",
        "        self.wpe = nn.Embedding(config.T, config.C)\n",
        "        self.blocks = [Block(config) for _ in range(config.blocks_num)]\n",
        "        # why lm_fc. 你可以🤔，每个position都是aggregate左侧的信息，然后再深度计算\n",
        "        # 最后你的task是next token prediction\n",
        "        # 所以你要把这个\"aggregate左侧的信息，然后再深度计算\"的信息，映射到token embd空间\n",
        "        # 然后通过wte逆向 映射出来 tokenid\n",
        "        self.lm_fc = nn.Linear(config.C, config.C)\n",
        "\n",
        "\n",
        "    def forward(self, idx, targets=None):\n",
        "        B, T = idx.shape\n",
        "        token_idx = idx\n",
        "        range_tensor = torch.arange(T)\n",
        "        position_idx = range_tensor.expand(B, T)\n",
        "\n",
        "        x = self.wte(token_idx) + self.wpe(position_idx)\n",
        "        for block in self.blocks:\n",
        "            x = block(x)\n",
        "        x = self.lm_fc(x) # (B, T, C)\n",
        "        # 使用嵌入层的权重转置进行反向映射\n",
        "        logits = torch.matmul(x, self.wte.weight.t())\n",
        "\n",
        "\n",
        "        if targets is None:\n",
        "            loss = None\n",
        "        else:\n",
        "            targets = targets.view(B*T)\n",
        "             # 要softmax吗？没想明白\n",
        "            logits = logits.view(B*T, vocab_size)\n",
        "            loss = F.cross_entropy(logits, targets)\n",
        "\n",
        "        return logits, loss\n",
        "\n",
        "    def generate(self, idx, max_new_tokens=50):\n",
        "\n",
        "        for step in range(max_new_tokens):\n",
        "            _B, seq_len = idx.shape\n",
        "            if seq_len > self.config.T:\n",
        "                idx_fixedlen = idx[:, -self.config.T:]\n",
        "                _B, seq_len = idx_fixedlen.shape\n",
        "            else:\n",
        "\n",
        "                padding_len = self.config.T - seq_len\n",
        "                idx_fixedlen = F.pad(idx, (0, padding_len), \"constant\", 0)\n",
        "\n",
        "            logits, loss = self(idx_fixedlen)\n",
        "            logits = logits[:, seq_len - 1, :]\n",
        "            probs = F.softmax(logits, dim=-1)\n",
        "            idx_next = torch.multinomial(probs, num_samples=1)\n",
        "            idx = torch.cat((idx, idx_next), dim=1)\n",
        "\n",
        "        return idx\n",
        "\n",
        "\n",
        "config = GPTConfig({'B': 16, 'T': 32, 'C': 32, 'vocab_size': vocab_size, 'header_size':8, 'headers_num': 4, 'blocks_num': 4, 'ffn_size': 64})\n",
        "m = GPT(config)\n",
        "\n",
        "# idx = encode('北国风光')\n",
        "# print(idx)\n",
        "\n",
        "batch_size = config.B\n",
        "block_size = config.T\n",
        "\n",
        "def get_batch(split):\n",
        "    data = train_data if split == 'train' else valid_data\n",
        "    ix = torch.randint(len(data) - block_size, (batch_size,))\n",
        "\n",
        "    x = torch.stack([data[i:i+block_size] for i in ix])\n",
        "    y = torch.stack([data[i+1: i+block_size+1] for i in ix])\n",
        "    return x, y\n",
        "\n",
        "xb, yb = get_batch('train')\n",
        "\n",
        "print('token id 0:' + decode([0]))\n",
        "\n",
        "print(f'xb: {xb.shape}')\n",
        "print(f'vocab_size: {vocab_size}')\n",
        "\n",
        "print(f'wpe: {m.wpe}')\n",
        "\n",
        "logits, loss = m(xb, yb)\n",
        "print(f'logits: {logits}')\n",
        "print(f'loss: {loss}')\n",
        "\n",
        "# gen_idx = torch.tensor([encode('北国风光')], dtype=torch.long)\n",
        "gen_idx = torch.zeros((1, 1), dtype=torch.long)\n",
        "print(f'gen_idx: {gen_idx.shape}')\n",
        "print(decode(m.generate(idx = gen_idx, max_new_tokens=500)[0].tolist()))"
      ],
      "metadata": {
        "colab": {
          "base_uri": "https://localhost:8080/"
        },
        "id": "cFDVvZnLNSD7",
        "outputId": "57de6063-172c-48a3-952e-212d73c631f4"
      },
      "execution_count": 142,
      "outputs": [
        {
          "output_type": "stream",
          "name": "stdout",
          "text": [
            "token id 0:\n",
            "\n",
            "xb: torch.Size([16, 32])\n",
            "vocab_size: 65\n",
            "wpe: Embedding(32, 32)\n",
            "logits: tensor([[ 5.0229, -0.6344, -4.5175,  ..., -2.5121, -1.8314,  0.1075],\n",
            "        [-0.3171, -2.4987,  0.3610,  ...,  5.2429,  3.1098,  5.1274],\n",
            "        [ 0.8237, -6.1247,  7.3399,  ...,  2.4741, -3.8745, -1.3388],\n",
            "        ...,\n",
            "        [ 6.2092,  4.0132,  2.4364,  ..., -3.1916, -4.5351, -7.0387],\n",
            "        [-1.4419,  1.6147, -2.3184,  ..., -0.4840,  0.8869, -4.6394],\n",
            "        [ 3.1612, -4.4017, -4.5986,  ...,  3.8658, -1.7293, -2.3096]],\n",
            "       grad_fn=<ViewBackward0>)\n",
            "loss: 12.199028968811035\n",
            "gen_idx: torch.Size([1, 1])\n",
            "\n",
            "BC&XJB$YGHfX&NgXlJk tKKx.DnpX&XlJXXXXXlJX3dsXXXXXXldsXXlluXXXluXXlJXXXXXlluXllJXXzXXXXXXXXllJXXXXXXlXXXXXXXlulluXXXXXXXluXXllJXXXXXlluXXXXXXXXXXJXXXlJXXXXlNUN:XzXXXlu:XllNUNUNUNUNUNtKXXXXlJXluXXXXlJXXXXlNUNUNUNUNgXllJXXXluXlJXXlJXluXXXXXXXXll:XllNlE&XXXXXXXlNhUNUNUNUNlJXXXXXXXX&XXluXX&XXXXllJXXXluXXXXXluXXXldsXXXXXXXluXllbXXXXXXXlJdN&XXXXXXXvhUNMNlXX&XlNUNUNUNllNUNUN&XlJXXX&XXXXXllbAXXXld3dHGzluXX&XXXluXXXXXlluXXzXXJXXXXXXXXXluXXXl:XXXXXXXlJXXXXXXvGzXllluXXXXlluXXluXXXXluXllNUN&XXXXXXlXXXXXXXlNU\n"
          ]
        }
      ]
    },
    {
      "cell_type": "code",
      "source": [
        "optimizer = torch.optim.AdamW(m.parameters(), lr=1e-3)"
      ],
      "metadata": {
        "id": "VOPpLEioft4q"
      },
      "execution_count": 143,
      "outputs": []
    },
    {
      "cell_type": "code",
      "source": [
        "eval_interval = 100\n",
        "max_iter = 5000\n",
        "\n",
        "for iter in range(max_iter):\n",
        "    xb, yb = get_batch('train')\n",
        "\n",
        "    logits, loss = m(xb, yb)\n",
        "\n",
        "    if iter % eval_interval == 0 or iter == max_iter:\n",
        "        x_val, y_val = get_batch('valid')\n",
        "        logits_val, loss_val = m(x_val, y_val)\n",
        "        print(f'step: {iter}, train loss: {loss}, valid loss:{loss_val}')\n",
        "\n",
        "    optimizer.zero_grad(set_to_none=True)\n",
        "\n",
        "    loss.backward()\n",
        "\n",
        "    optimizer.step()\n",
        "\n",
        "# 跑了半天loss 3.x，比bigram的还高。多跑几轮能到2.5，loss有波动\n",
        "# 增加header_size，blocks_num， batch_size 没啥用\n",
        "# 还有几个没有优化的:1. 非线性激活 2.LayerNorm 3. MultiHead\n",
        "# 看了下Andrej老师的notebook，step5000 trainloss能降到1.6,valloss能降到1.8\n",
        "# 这里可能有2个原因，1是数据集毛爷爷的诗还是不够多，然后vocab比英语的chars要大不少；2是代码有bug，\n",
        "# 但是还是要想明白一点，预训练和SFT可能不太一样，loss不可能逼近0，因为譬如第一个字去预测第二个字，总是会有loss的，加大block_size，平均下来应该能降低一些loss"
      ],
      "metadata": {
        "colab": {
          "base_uri": "https://localhost:8080/"
        },
        "id": "1wnembm7NmIx",
        "outputId": "72f1d9ba-7b43-4c75-ca4a-d8a97fd74f1e"
      },
      "execution_count": 144,
      "outputs": [
        {
          "output_type": "stream",
          "name": "stdout",
          "text": [
            "step: 0, train loss: 11.828028678894043, valid loss:12.252492904663086\n",
            "step: 100, train loss: 4.361717700958252, valid loss:4.733304023742676\n",
            "step: 200, train loss: 3.291757345199585, valid loss:3.5500900745391846\n",
            "step: 300, train loss: 3.0501558780670166, valid loss:3.0765252113342285\n",
            "step: 400, train loss: 3.0915133953094482, valid loss:2.9342899322509766\n",
            "step: 500, train loss: 2.9170591831207275, valid loss:2.9936540126800537\n",
            "step: 600, train loss: 3.0487253665924072, valid loss:2.9251058101654053\n",
            "step: 700, train loss: 2.8658182621002197, valid loss:2.8465733528137207\n",
            "step: 800, train loss: 2.6459293365478516, valid loss:2.8058834075927734\n",
            "step: 900, train loss: 2.741997718811035, valid loss:2.7237794399261475\n",
            "step: 1000, train loss: 2.7069857120513916, valid loss:2.7260611057281494\n",
            "step: 1100, train loss: 2.590958833694458, valid loss:2.7651631832122803\n",
            "step: 1200, train loss: 2.9246065616607666, valid loss:2.8007407188415527\n",
            "step: 1300, train loss: 2.6978578567504883, valid loss:2.56891131401062\n",
            "step: 1400, train loss: 2.6934874057769775, valid loss:2.5632758140563965\n",
            "step: 1500, train loss: 2.674351453781128, valid loss:2.566380023956299\n",
            "step: 1600, train loss: 2.6399996280670166, valid loss:2.6739554405212402\n",
            "step: 1700, train loss: 2.7147796154022217, valid loss:2.5519232749938965\n",
            "step: 1800, train loss: 2.652268648147583, valid loss:2.579179048538208\n",
            "step: 1900, train loss: 2.5443458557128906, valid loss:2.5925941467285156\n",
            "step: 2000, train loss: 2.622992992401123, valid loss:2.5932350158691406\n",
            "step: 2100, train loss: 2.643033742904663, valid loss:2.5859408378601074\n",
            "step: 2200, train loss: 2.666051149368286, valid loss:2.5989935398101807\n",
            "step: 2300, train loss: 2.5163991451263428, valid loss:2.599825859069824\n",
            "step: 2400, train loss: 2.5686964988708496, valid loss:2.545942544937134\n",
            "step: 2500, train loss: 2.512652635574341, valid loss:2.5263969898223877\n",
            "step: 2600, train loss: 2.677997350692749, valid loss:2.5349278450012207\n",
            "step: 2700, train loss: 2.5025546550750732, valid loss:2.6186509132385254\n",
            "step: 2800, train loss: 2.6089136600494385, valid loss:2.5388975143432617\n",
            "step: 2900, train loss: 2.555603504180908, valid loss:2.5951836109161377\n",
            "step: 3000, train loss: 2.5766303539276123, valid loss:2.565082311630249\n",
            "step: 3100, train loss: 2.599275827407837, valid loss:2.5311732292175293\n",
            "step: 3200, train loss: 2.5182807445526123, valid loss:2.560084342956543\n",
            "step: 3300, train loss: 2.534475564956665, valid loss:2.5423343181610107\n",
            "step: 3400, train loss: 2.4280831813812256, valid loss:2.5208687782287598\n",
            "step: 3500, train loss: 2.4176571369171143, valid loss:2.551234722137451\n",
            "step: 3600, train loss: 2.53318190574646, valid loss:2.5333189964294434\n",
            "step: 3700, train loss: 2.5068812370300293, valid loss:2.4945359230041504\n",
            "step: 3800, train loss: 2.5596861839294434, valid loss:2.5677599906921387\n",
            "step: 3900, train loss: 2.538982391357422, valid loss:2.5453197956085205\n",
            "step: 4000, train loss: 2.571340560913086, valid loss:2.6127820014953613\n",
            "step: 4100, train loss: 2.5705084800720215, valid loss:2.540493965148926\n",
            "step: 4200, train loss: 2.4871692657470703, valid loss:2.480574369430542\n",
            "step: 4300, train loss: 2.41225004196167, valid loss:2.512967824935913\n",
            "step: 4400, train loss: 2.535998821258545, valid loss:2.439451217651367\n",
            "step: 4500, train loss: 2.415969133377075, valid loss:2.527980327606201\n",
            "step: 4600, train loss: 2.524864673614502, valid loss:2.4656505584716797\n",
            "step: 4700, train loss: 2.5201849937438965, valid loss:2.655665397644043\n",
            "step: 4800, train loss: 2.5787079334259033, valid loss:2.6272246837615967\n",
            "step: 4900, train loss: 2.532722234725952, valid loss:2.4924428462982178\n"
          ]
        }
      ]
    },
    {
      "cell_type": "code",
      "source": [
        "gen_idx = torch.tensor([encode('北国风光')], dtype=torch.long)\n",
        "print(decode(m.generate(idx = gen_idx, max_new_tokens=500)[0].tolist())) # 实际效果也一般"
      ],
      "metadata": {
        "colab": {
          "base_uri": "https://localhost:8080/"
        },
        "id": "WJZssbgYO-Zz",
        "outputId": "8a5cf7a9-3d28-445d-fcba-85e14d521196"
      },
      "execution_count": 97,
      "outputs": [
        {
          "output_type": "stream",
          "name": "stdout",
          "text": [
            "北国风光嶂向任？\n",
            "\n",
            "\n",
            "\n",
            "和。\n",
            "千首朔修容北事重剿”寒敢声浪。\n",
            "\n",
            "\n",
            "\n",
            "\n",
            "\n",
            "侣，红万浊铁万，峥泣上，。\n",
            "\n",
            "\n",
            "天向洋鳖。\n",
            "\n",
            "天正待洋朋浅掌。冰。\n",
            "同，狐。\n",
            "\n",
            "\n",
            "\n",
            "\n",
            "\n",
            "相上，放。\n",
            "\n",
            "\n",
            "\n",
            "\n",
            "\n",
            "\n",
            "万军阀类潇梅秋下飞罗邪。\n",
            "\n",
            "\n",
            "青安夕里两粤海急余山能九国，洲遐忠，只拂埃，\n",
            "为铜上头，救，是愚不往违，骗疑同志，刀除光好片，\n",
            "\n",
            "\n",
            "\n",
            "席，外墙命一几少，只同，如祖兵界苍汀最晚黄。\n",
            "\n",
            "\n",
            "八表出。\n",
            "国来天风春得，飞虎高天洋相园，必朵这缸深，其二首·种邪。\n",
            "\n",
            "\n",
            "解放涯孤风李淑一声映，\n",
            "\n",
            "儿呈崩绝·寥荦岖布告\n",
            "奇还，竟瑟，\n",
            "脑。\n",
            "\n",
            "物海而梅（，快沙重不时归，莺霆，中安虎桂祥，又万抓，残前肇德，家旨。\n",
            "\n",
            "\n",
            "\n",
            "\n",
            "# 七廓，六年绿濯顺，大孤事，盟工农秦来摔点论，似。\n",
            "\n",
            "。\n",
            "登笔山千年翼，人曾天好，快人狂？\n",
            "\n",
            "\n",
            "\n",
            "\n",
            "\n",
            "\n",
            "\n",
            "扬断，哪纪律·改伤翔洋形苦苦人川高，不焰一如此农民虫，才教片，\n",
            "枯，娄仰，大舜队，题，天到发飒山为天望空霜彻听纷滔，制樯哀帐，东且，筹行，春群赋英雄都 七方来枕兵则皆浮师全行，坚，我征便穷寥廓，组织缸。\n",
            "\n",
            "\n",
            "民潺流，从！\n",
            "\n",
            "赫岁岁甫·琼月，要人四言诗·改胡乔木《赣教有念晓长公合竞背雨\n",
            "\n",
            "\n",
            "妙否。或力，\n",
            "\n",
            "\n",
            "\n",
            "叛叫\n"
          ]
        }
      ]
    }
  ],
  "metadata": {
    "colab": {
      "provenance": [],
      "authorship_tag": "ABX9TyMcUebnPcf8QeaEcpIG9++g",
      "include_colab_link": true
    },
    "kernelspec": {
      "display_name": "Python 3",
      "name": "python3"
    },
    "language_info": {
      "name": "python"
    }
  },
  "nbformat": 4,
  "nbformat_minor": 0
}